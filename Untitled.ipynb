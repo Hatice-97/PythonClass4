{
  "cells": [
    {
      "metadata": {
        "trusted": true
      },
      "cell_type": "code",
      "source": "df = pd.DataFrame({\n     'ulke': ['Kazakistan', 'Romanya', 'Polonya', 'Ukrayna'],\n     'nufus': [17.04, 19.6, 38.1, 45.5],\n     'yuzolcum': [2724902, 230170, 312679, 603628]\n })",
      "execution_count": 3,
      "outputs": [
        {
          "output_type": "error",
          "ename": "NameError",
          "evalue": "name 'pd' is not defined",
          "traceback": [
            "\u001b[0;31m---------------------------------------------------------------------------\u001b[0m",
            "\u001b[0;31mNameError\u001b[0m                                 Traceback (most recent call last)",
            "\u001b[0;32m<ipython-input-3-5b8b75ace10e>\u001b[0m in \u001b[0;36m<module>\u001b[0;34m\u001b[0m\n\u001b[0;32m----> 1\u001b[0;31m df = pd.DataFrame({\n\u001b[0m\u001b[1;32m      2\u001b[0m      \u001b[0;34m'ulke'\u001b[0m\u001b[0;34m:\u001b[0m \u001b[0;34m[\u001b[0m\u001b[0;34m'Kazakistan'\u001b[0m\u001b[0;34m,\u001b[0m \u001b[0;34m'Romanya'\u001b[0m\u001b[0;34m,\u001b[0m \u001b[0;34m'Polonya'\u001b[0m\u001b[0;34m,\u001b[0m \u001b[0;34m'Ukrayna'\u001b[0m\u001b[0;34m]\u001b[0m\u001b[0;34m,\u001b[0m\u001b[0;34m\u001b[0m\u001b[0m\n\u001b[1;32m      3\u001b[0m      \u001b[0;34m'nufus'\u001b[0m\u001b[0;34m:\u001b[0m \u001b[0;34m[\u001b[0m\u001b[0;36m17.04\u001b[0m\u001b[0;34m,\u001b[0m \u001b[0;36m19.6\u001b[0m\u001b[0;34m,\u001b[0m \u001b[0;36m38.1\u001b[0m\u001b[0;34m,\u001b[0m \u001b[0;36m45.5\u001b[0m\u001b[0;34m]\u001b[0m\u001b[0;34m,\u001b[0m\u001b[0;34m\u001b[0m\u001b[0m\n\u001b[1;32m      4\u001b[0m      \u001b[0;34m'yuzolcum'\u001b[0m\u001b[0;34m:\u001b[0m \u001b[0;34m[\u001b[0m\u001b[0;36m2724902\u001b[0m\u001b[0;34m,\u001b[0m \u001b[0;36m230170\u001b[0m\u001b[0;34m,\u001b[0m \u001b[0;36m312679\u001b[0m\u001b[0;34m,\u001b[0m \u001b[0;36m603628\u001b[0m\u001b[0;34m]\u001b[0m\u001b[0;34m\u001b[0m\u001b[0m\n\u001b[1;32m      5\u001b[0m  })\n",
            "\u001b[0;31mNameError\u001b[0m: name 'pd' is not defined"
          ]
        }
      ]
    },
    {
      "metadata": {
        "trusted": true
      },
      "cell_type": "code",
      "source": "import pandas as pd \n",
      "execution_count": 4,
      "outputs": []
    },
    {
      "metadata": {
        "trusted": true
      },
      "cell_type": "code",
      "source": "df = pd.DataFrame({\n     'ulke': ['Kazakistan', 'Romanya', 'Polonya', 'Ukrayna'],\n     'nufus': [17.04, 19.6, 38.1, 45.5],\n     'yuzolcum': [2724902, 230170, 312679, 603628]\n })\nprint (df)",
      "execution_count": 5,
      "outputs": [
        {
          "output_type": "stream",
          "text": "         ulke  nufus  yuzolcum\n0  Kazakistan  17.04   2724902\n1     Romanya  19.60    230170\n2     Polonya  38.10    312679\n3     Ukrayna  45.50    603628\n",
          "name": "stdout"
        }
      ]
    },
    {
      "metadata": {
        "trusted": true
      },
      "cell_type": "code",
      "source": "print (df['ulke'])\nprint\n# her bir sütun bir Series nesnesidir\nprint (type(df['ulke']))",
      "execution_count": 6,
      "outputs": [
        {
          "output_type": "stream",
          "text": "0    Kazakistan\n1       Romanya\n2       Polonya\n3       Ukrayna\nName: ulke, dtype: object\n<class 'pandas.core.series.Series'>\n",
          "name": "stdout"
        }
      ]
    },
    {
      "metadata": {
        "trusted": true
      },
      "cell_type": "code",
      "source": "print (df.columns)\nprint\nprint (df.index)\n",
      "execution_count": 7,
      "outputs": [
        {
          "output_type": "stream",
          "text": "Index(['ulke', 'nufus', 'yuzolcum'], dtype='object')\nRangeIndex(start=0, stop=4, step=1)\n",
          "name": "stdout"
        }
      ]
    },
    {
      "metadata": {
        "trusted": true
      },
      "cell_type": "code",
      "source": "df = pd.DataFrame({\n     'ulke': ['Kazakistan', 'Romanya', 'Polonya', 'Ukrayna'],\n     'nufus': [17.04, 19.6, 38.1, 45.5],\n     'yuzolcum': [2724902, 230170, 312679, 603628]\n }, index=['KZ', 'RO', 'PL', 'UA'] )\nprint (df)",
      "execution_count": 8,
      "outputs": [
        {
          "output_type": "stream",
          "text": "          ulke  nufus  yuzolcum\nKZ  Kazakistan  17.04   2724902\nRO     Romanya  19.60    230170\nPL     Polonya  38.10    312679\nUA     Ukrayna  45.50    603628\n",
          "name": "stdout"
        }
      ]
    },
    {
      "metadata": {
        "trusted": true
      },
      "cell_type": "code",
      "source": "df.index = ['KZ', 'RO', 'PL', 'UA']\ndf.index.name = 'Ulke Kodları'\nprint (df)",
      "execution_count": 9,
      "outputs": [
        {
          "output_type": "stream",
          "text": "                    ulke  nufus  yuzolcum\nUlke Kodları                             \nKZ            Kazakistan  17.04   2724902\nRO               Romanya  19.60    230170\nPL               Polonya  38.10    312679\nUA               Ukrayna  45.50    603628\n",
          "name": "stdout"
        }
      ]
    },
    {
      "metadata": {
        "trusted": true
      },
      "cell_type": "code",
      "source": "print (df['ulke'])",
      "execution_count": 10,
      "outputs": [
        {
          "output_type": "stream",
          "text": "Ulke Kodları\nKZ    Kazakistan\nRO       Romanya\nPL       Polonya\nUA       Ukrayna\nName: ulke, dtype: object\n",
          "name": "stdout"
        }
      ]
    },
    {
      "metadata": {
        "trusted": true
      },
      "cell_type": "code",
      "source": "print (df.loc['KZ']) #indeks etiketi",
      "execution_count": 11,
      "outputs": [
        {
          "output_type": "stream",
          "text": "ulke        Kazakistan\nnufus            17.04\nyuzolcum       2724902\nName: KZ, dtype: object\n",
          "name": "stdout"
        }
      ]
    },
    {
      "metadata": {
        "trusted": true
      },
      "cell_type": "code",
      "source": "print (df.iloc[0]) #indeks numarası",
      "execution_count": 12,
      "outputs": [
        {
          "output_type": "stream",
          "text": "ulke        Kazakistan\nnufus            17.04\nyuzolcum       2724902\nName: KZ, dtype: object\n",
          "name": "stdout"
        }
      ]
    },
    {
      "metadata": {
        "trusted": true
      },
      "cell_type": "code",
      "source": "print (df.loc[['KZ', 'RO'], 'nufus'])",
      "execution_count": 13,
      "outputs": [
        {
          "output_type": "stream",
          "text": "Ulke Kodları\nKZ    17.04\nRO    19.60\nName: nufus, dtype: float64\n",
          "name": "stdout"
        }
      ]
    },
    {
      "metadata": {
        "trusted": true
      },
      "cell_type": "code",
      "source": "print (df.iloc[2])",
      "execution_count": 15,
      "outputs": [
        {
          "output_type": "stream",
          "text": "ulke        Polonya\nnufus          38.1\nyuzolcum     312679\nName: PL, dtype: object\n",
          "name": "stdout"
        }
      ]
    },
    {
      "metadata": {
        "trusted": true
      },
      "cell_type": "code",
      "source": "print (df.loc['UA']) #indeks etiketi",
      "execution_count": 16,
      "outputs": [
        {
          "output_type": "stream",
          "text": "ulke        Ukrayna\nnufus          45.5\nyuzolcum     603628\nName: UA, dtype: object\n",
          "name": "stdout"
        }
      ]
    },
    {
      "metadata": {
        "trusted": true
      },
      "cell_type": "code",
      "source": "print (df.loc[['KZ','UA'],'nufus'])",
      "execution_count": 17,
      "outputs": [
        {
          "output_type": "stream",
          "text": "Ulke Kodları\nKZ    17.04\nUA    45.50\nName: nufus, dtype: float64\n",
          "name": "stdout"
        }
      ]
    },
    {
      "metadata": {
        "trusted": true
      },
      "cell_type": "code",
      "source": "print (df.loc['KZ':'PL', :])#dilimleme yaparak",
      "execution_count": 19,
      "outputs": [
        {
          "output_type": "stream",
          "text": "                    ulke  nufus  yuzolcum\nUlke Kodları                             \nKZ            Kazakistan  17.04   2724902\nRO               Romanya  19.60    230170\nPL               Polonya  38.10    312679\n",
          "name": "stdout"
        }
      ]
    },
    {
      "metadata": {
        "trusted": true
      },
      "cell_type": "code",
      "source": "print (df[df.nufus > 20][['ulke', 'yuzolcum']])#filtreleme yaparak",
      "execution_count": 21,
      "outputs": [
        {
          "output_type": "stream",
          "text": "                 ulke  yuzolcum\nUlke Kodları                   \nPL            Polonya    312679\nUA            Ukrayna    603628\n",
          "name": "stdout"
        }
      ]
    },
    {
      "metadata": {
        "trusted": true
      },
      "cell_type": "code",
      "source": "print (df.nufus)",
      "execution_count": 22,
      "outputs": [
        {
          "output_type": "stream",
          "text": "Ulke Kodları\nKZ    17.04\nRO    19.60\nPL    38.10\nUA    45.50\nName: nufus, dtype: float64\n",
          "name": "stdout"
        }
      ]
    },
    {
      "metadata": {
        "trusted": true
      },
      "cell_type": "code",
      "source": "print (df['nufus'])\n",
      "execution_count": 23,
      "outputs": [
        {
          "output_type": "stream",
          "text": "Ulke Kodları\nKZ    17.04\nRO    19.60\nPL    38.10\nUA    45.50\nName: nufus, dtype: float64\n",
          "name": "stdout"
        }
      ]
    },
    {
      "metadata": {
        "trusted": true
      },
      "cell_type": "code",
      "source": "print (df.reset_index())\nprint (df)",
      "execution_count": 24,
      "outputs": [
        {
          "output_type": "stream",
          "text": "  Ulke Kodları        ulke  nufus  yuzolcum\n0           KZ  Kazakistan  17.04   2724902\n1           RO     Romanya  19.60    230170\n2           PL     Polonya  38.10    312679\n3           UA     Ukrayna  45.50    603628\n                    ulke  nufus  yuzolcum\nUlke Kodları                             \nKZ            Kazakistan  17.04   2724902\nRO               Romanya  19.60    230170\nPL               Polonya  38.10    312679\nUA               Ukrayna  45.50    603628\n",
          "name": "stdout"
        }
      ]
    },
    {
      "metadata": {
        "trusted": true
      },
      "cell_type": "code",
      "source": "df['yogunluk'] = df['nufus'] / df['yuzolcum'] * 1000000\nprint (df)",
      "execution_count": 25,
      "outputs": [
        {
          "output_type": "stream",
          "text": "                    ulke  nufus  yuzolcum    yogunluk\nUlke Kodları                                         \nKZ            Kazakistan  17.04   2724902    6.253436\nRO               Romanya  19.60    230170   85.154451\nPL               Polonya  38.10    312679  121.850204\nUA               Ukrayna  45.50    603628   75.377550\n",
          "name": "stdout"
        }
      ]
    },
    {
      "metadata": {
        "trusted": true
      },
      "cell_type": "code",
      "source": "print (df.drop(['yogunluk'], axis='columns'))\nprint (df)",
      "execution_count": 26,
      "outputs": [
        {
          "output_type": "stream",
          "text": "                    ulke  nufus  yuzolcum\nUlke Kodları                             \nKZ            Kazakistan  17.04   2724902\nRO               Romanya  19.60    230170\nPL               Polonya  38.10    312679\nUA               Ukrayna  45.50    603628\n                    ulke  nufus  yuzolcum    yogunluk\nUlke Kodları                                         \nKZ            Kazakistan  17.04   2724902    6.253436\nRO               Romanya  19.60    230170   85.154451\nPL               Polonya  38.10    312679  121.850204\nUA               Ukrayna  45.50    603628   75.377550\n",
          "name": "stdout"
        }
      ]
    },
    {
      "metadata": {
        "trusted": true
      },
      "cell_type": "code",
      "source": "del df['yogunluk']\nprint (df)",
      "execution_count": 27,
      "outputs": [
        {
          "output_type": "stream",
          "text": "                    ulke  nufus  yuzolcum\nUlke Kodları                             \nKZ            Kazakistan  17.04   2724902\nRO               Romanya  19.60    230170\nPL               Polonya  38.10    312679\nUA               Ukrayna  45.50    603628\n",
          "name": "stdout"
        }
      ]
    },
    {
      "metadata": {
        "trusted": true
      },
      "cell_type": "code",
      "source": "import numpy as np\nimport pandas as pd\nfrom pandas import Series, DataFrame\nimport matplotlib.pyplot as plt\nimport seaborn as sns\n",
      "execution_count": 28,
      "outputs": []
    },
    {
      "metadata": {
        "trusted": true
      },
      "cell_type": "code",
      "source": "titanic_df = pd.read_csv('https://gist.githubusercontent.com/michhar/2dfd2de0d4f8727f873422c5d959fff5/raw/ff414a1bcfcba32481e4d4e8db578e55872a2ca1/titanic.csv')\nprint (titanic_df.head())",
      "execution_count": 38,
      "outputs": [
        {
          "output_type": "stream",
          "text": "                   PassengerId\\tSurvived\\tPclass\\tName\\tSex\\tAge\\tSibSp\\tParch\\tTicket\\tFare\\tCabin\\tEmbarked\n1\\t0\\t3\\tBraund      Mr. Owen Harris\\tmale\\t22\\t1\\t0\\tA/5 21171\\t7...                                        \n2\\t1\\t1\\tCumings     Mrs. John Bradley (Florence Briggs Thayer)\\tf...                                        \n3\\t1\\t3\\tHeikkinen   Miss. Laina\\tfemale\\t26\\t0\\t0\\tSTON/O2. 31012...                                        \n4\\t1\\t1\\tFutrelle    Mrs. Jacques Heath (Lily May Peel)\\tfemale\\t3...                                        \n5\\t0\\t3\\tAllen       Mr. William Henry\\tmale\\t35\\t0\\t0\\t373450\\t8....                                        \n",
          "name": "stdout"
        }
      ]
    },
    {
      "metadata": {
        "trusted": true
      },
      "cell_type": "code",
      "source": "titanic_df = pd.read_csv('https://raw.githubusercontent.com/felipegonzalez/aprendizaje_estadistico_2015/master/clases/clase_12/datos/train_titanic.csv')\n",
      "execution_count": 42,
      "outputs": []
    },
    {
      "metadata": {
        "trusted": true
      },
      "cell_type": "code",
      "source": "print (titanic_df.head())\n",
      "execution_count": 43,
      "outputs": [
        {
          "output_type": "stream",
          "text": "   PassengerId  Survived  Pclass  \\\n0            1         0       3   \n1            2         1       1   \n2            3         1       3   \n3            4         1       1   \n4            5         0       3   \n\n                                                Name     Sex   Age  SibSp  \\\n0                            Braund, Mr. Owen Harris    male  22.0      1   \n1  Cumings, Mrs. John Bradley (Florence Briggs Th...  female  38.0      1   \n2                             Heikkinen, Miss. Laina  female  26.0      0   \n3       Futrelle, Mrs. Jacques Heath (Lily May Peel)  female  35.0      1   \n4                           Allen, Mr. William Henry    male  35.0      0   \n\n   Parch            Ticket     Fare Cabin Embarked  \n0      0         A/5 21171   7.2500   NaN        S  \n1      0          PC 17599  71.2833   C85        C  \n2      0  STON/O2. 3101282   7.9250   NaN        S  \n3      0            113803  53.1000  C123        S  \n4      0            373450   8.0500   NaN        S  \n",
          "name": "stdout"
        }
      ]
    },
    {
      "metadata": {
        "trusted": true
      },
      "cell_type": "code",
      "source": "print (titanic_df.head(15))",
      "execution_count": 44,
      "outputs": [
        {
          "output_type": "stream",
          "text": "    PassengerId  Survived  Pclass  \\\n0             1         0       3   \n1             2         1       1   \n2             3         1       3   \n3             4         1       1   \n4             5         0       3   \n5             6         0       3   \n6             7         0       1   \n7             8         0       3   \n8             9         1       3   \n9            10         1       2   \n10           11         1       3   \n11           12         1       1   \n12           13         0       3   \n13           14         0       3   \n14           15         0       3   \n\n                                                 Name     Sex   Age  SibSp  \\\n0                             Braund, Mr. Owen Harris    male  22.0      1   \n1   Cumings, Mrs. John Bradley (Florence Briggs Th...  female  38.0      1   \n2                              Heikkinen, Miss. Laina  female  26.0      0   \n3        Futrelle, Mrs. Jacques Heath (Lily May Peel)  female  35.0      1   \n4                            Allen, Mr. William Henry    male  35.0      0   \n5                                    Moran, Mr. James    male   NaN      0   \n6                             McCarthy, Mr. Timothy J    male  54.0      0   \n7                      Palsson, Master. Gosta Leonard    male   2.0      3   \n8   Johnson, Mrs. Oscar W (Elisabeth Vilhelmina Berg)  female  27.0      0   \n9                 Nasser, Mrs. Nicholas (Adele Achem)  female  14.0      1   \n10                    Sandstrom, Miss. Marguerite Rut  female   4.0      1   \n11                           Bonnell, Miss. Elizabeth  female  58.0      0   \n12                     Saundercock, Mr. William Henry    male  20.0      0   \n13                        Andersson, Mr. Anders Johan    male  39.0      1   \n14               Vestrom, Miss. Hulda Amanda Adolfina  female  14.0      0   \n\n    Parch            Ticket     Fare Cabin Embarked  \n0       0         A/5 21171   7.2500   NaN        S  \n1       0          PC 17599  71.2833   C85        C  \n2       0  STON/O2. 3101282   7.9250   NaN        S  \n3       0            113803  53.1000  C123        S  \n4       0            373450   8.0500   NaN        S  \n5       0            330877   8.4583   NaN        Q  \n6       0             17463  51.8625   E46        S  \n7       1            349909  21.0750   NaN        S  \n8       2            347742  11.1333   NaN        S  \n9       0            237736  30.0708   NaN        C  \n10      1           PP 9549  16.7000    G6        S  \n11      0            113783  26.5500  C103        S  \n12      0         A/5. 2151   8.0500   NaN        S  \n13      5            347082  31.2750   NaN        S  \n14      0            350406   7.8542   NaN        S  \n",
          "name": "stdout"
        }
      ]
    },
    {
      "metadata": {
        "trusted": true
      },
      "cell_type": "code",
      "source": "print (titanic_df.info())",
      "execution_count": 45,
      "outputs": [
        {
          "output_type": "stream",
          "text": "<class 'pandas.core.frame.DataFrame'>\nRangeIndex: 891 entries, 0 to 890\nData columns (total 12 columns):\nPassengerId    891 non-null int64\nSurvived       891 non-null int64\nPclass         891 non-null int64\nName           891 non-null object\nSex            891 non-null object\nAge            714 non-null float64\nSibSp          891 non-null int64\nParch          891 non-null int64\nTicket         891 non-null object\nFare           891 non-null float64\nCabin          204 non-null object\nEmbarked       889 non-null object\ndtypes: float64(2), int64(5), object(5)\nmemory usage: 83.6+ KB\nNone\n",
          "name": "stdout"
        }
      ]
    },
    {
      "metadata": {
        "trusted": true
      },
      "cell_type": "code",
      "source": "print (sns.factorplot('sex', data=titanic_df,kind='count'))",
      "execution_count": 46,
      "outputs": [
        {
          "output_type": "stream",
          "text": "/home/nbuser/anaconda3_501/lib/python3.6/site-packages/seaborn/categorical.py:3666: UserWarning: The `factorplot` function has been renamed to `catplot`. The original name will be removed in a future release. Please update your code. Note that the default `kind` in `factorplot` (`'point'`) has changed `'strip'` in `catplot`.\n  warnings.warn(msg)\n",
          "name": "stderr"
        },
        {
          "output_type": "error",
          "ename": "ValueError",
          "evalue": "Could not interpret input 'sex'",
          "traceback": [
            "\u001b[0;31m---------------------------------------------------------------------------\u001b[0m",
            "\u001b[0;31mValueError\u001b[0m                                Traceback (most recent call last)",
            "\u001b[0;32m<ipython-input-46-0732df0d333f>\u001b[0m in \u001b[0;36m<module>\u001b[0;34m\u001b[0m\n\u001b[0;32m----> 1\u001b[0;31m \u001b[0mprint\u001b[0m \u001b[0;34m(\u001b[0m\u001b[0msns\u001b[0m\u001b[0;34m.\u001b[0m\u001b[0mfactorplot\u001b[0m\u001b[0;34m(\u001b[0m\u001b[0;34m'sex'\u001b[0m\u001b[0;34m,\u001b[0m \u001b[0mdata\u001b[0m\u001b[0;34m=\u001b[0m\u001b[0mtitanic_df\u001b[0m\u001b[0;34m,\u001b[0m\u001b[0mkind\u001b[0m\u001b[0;34m=\u001b[0m\u001b[0;34m'count'\u001b[0m\u001b[0;34m)\u001b[0m\u001b[0;34m)\u001b[0m\u001b[0;34m\u001b[0m\u001b[0m\n\u001b[0m",
            "\u001b[0;32m~/anaconda3_501/lib/python3.6/site-packages/seaborn/categorical.py\u001b[0m in \u001b[0;36mfactorplot\u001b[0;34m(*args, **kwargs)\u001b[0m\n\u001b[1;32m   3674\u001b[0m     \u001b[0mkwargs\u001b[0m\u001b[0;34m.\u001b[0m\u001b[0msetdefault\u001b[0m\u001b[0;34m(\u001b[0m\u001b[0;34m\"kind\"\u001b[0m\u001b[0;34m,\u001b[0m \u001b[0;34m\"point\"\u001b[0m\u001b[0;34m)\u001b[0m\u001b[0;34m\u001b[0m\u001b[0m\n\u001b[1;32m   3675\u001b[0m \u001b[0;34m\u001b[0m\u001b[0m\n\u001b[0;32m-> 3676\u001b[0;31m     \u001b[0;32mreturn\u001b[0m \u001b[0mcatplot\u001b[0m\u001b[0;34m(\u001b[0m\u001b[0;34m*\u001b[0m\u001b[0margs\u001b[0m\u001b[0;34m,\u001b[0m \u001b[0;34m**\u001b[0m\u001b[0mkwargs\u001b[0m\u001b[0;34m)\u001b[0m\u001b[0;34m\u001b[0m\u001b[0m\n\u001b[0m\u001b[1;32m   3677\u001b[0m \u001b[0;34m\u001b[0m\u001b[0m\n\u001b[1;32m   3678\u001b[0m \u001b[0;34m\u001b[0m\u001b[0m\n",
            "\u001b[0;32m~/anaconda3_501/lib/python3.6/site-packages/seaborn/categorical.py\u001b[0m in \u001b[0;36mcatplot\u001b[0;34m(x, y, hue, data, row, col, col_wrap, estimator, ci, n_boot, units, order, hue_order, row_order, col_order, kind, height, aspect, orient, color, palette, legend, legend_out, sharex, sharey, margin_titles, facet_kws, **kwargs)\u001b[0m\n\u001b[1;32m   3714\u001b[0m     \u001b[0;31m# facets to ensure representation of all data in the final plot\u001b[0m\u001b[0;34m\u001b[0m\u001b[0;34m\u001b[0m\u001b[0m\n\u001b[1;32m   3715\u001b[0m     \u001b[0mp\u001b[0m \u001b[0;34m=\u001b[0m \u001b[0m_CategoricalPlotter\u001b[0m\u001b[0;34m(\u001b[0m\u001b[0;34m)\u001b[0m\u001b[0;34m\u001b[0m\u001b[0m\n\u001b[0;32m-> 3716\u001b[0;31m     \u001b[0mp\u001b[0m\u001b[0;34m.\u001b[0m\u001b[0mestablish_variables\u001b[0m\u001b[0;34m(\u001b[0m\u001b[0mx_\u001b[0m\u001b[0;34m,\u001b[0m \u001b[0my_\u001b[0m\u001b[0;34m,\u001b[0m \u001b[0mhue\u001b[0m\u001b[0;34m,\u001b[0m \u001b[0mdata\u001b[0m\u001b[0;34m,\u001b[0m \u001b[0morient\u001b[0m\u001b[0;34m,\u001b[0m \u001b[0morder\u001b[0m\u001b[0;34m,\u001b[0m \u001b[0mhue_order\u001b[0m\u001b[0;34m)\u001b[0m\u001b[0;34m\u001b[0m\u001b[0m\n\u001b[0m\u001b[1;32m   3717\u001b[0m     \u001b[0morder\u001b[0m \u001b[0;34m=\u001b[0m \u001b[0mp\u001b[0m\u001b[0;34m.\u001b[0m\u001b[0mgroup_names\u001b[0m\u001b[0;34m\u001b[0m\u001b[0m\n\u001b[1;32m   3718\u001b[0m     \u001b[0mhue_order\u001b[0m \u001b[0;34m=\u001b[0m \u001b[0mp\u001b[0m\u001b[0;34m.\u001b[0m\u001b[0mhue_names\u001b[0m\u001b[0;34m\u001b[0m\u001b[0m\n",
            "\u001b[0;32m~/anaconda3_501/lib/python3.6/site-packages/seaborn/categorical.py\u001b[0m in \u001b[0;36mestablish_variables\u001b[0;34m(self, x, y, hue, data, orient, order, hue_order, units)\u001b[0m\n\u001b[1;32m    153\u001b[0m                 \u001b[0;32mif\u001b[0m \u001b[0misinstance\u001b[0m\u001b[0;34m(\u001b[0m\u001b[0minput\u001b[0m\u001b[0;34m,\u001b[0m \u001b[0mstring_types\u001b[0m\u001b[0;34m)\u001b[0m\u001b[0;34m:\u001b[0m\u001b[0;34m\u001b[0m\u001b[0m\n\u001b[1;32m    154\u001b[0m                     \u001b[0merr\u001b[0m \u001b[0;34m=\u001b[0m \u001b[0;34m\"Could not interpret input '{}'\"\u001b[0m\u001b[0;34m.\u001b[0m\u001b[0mformat\u001b[0m\u001b[0;34m(\u001b[0m\u001b[0minput\u001b[0m\u001b[0;34m)\u001b[0m\u001b[0;34m\u001b[0m\u001b[0m\n\u001b[0;32m--> 155\u001b[0;31m                     \u001b[0;32mraise\u001b[0m \u001b[0mValueError\u001b[0m\u001b[0;34m(\u001b[0m\u001b[0merr\u001b[0m\u001b[0;34m)\u001b[0m\u001b[0;34m\u001b[0m\u001b[0m\n\u001b[0m\u001b[1;32m    156\u001b[0m \u001b[0;34m\u001b[0m\u001b[0m\n\u001b[1;32m    157\u001b[0m             \u001b[0;31m# Figure out the plotting orientation\u001b[0m\u001b[0;34m\u001b[0m\u001b[0;34m\u001b[0m\u001b[0m\n",
            "\u001b[0;31mValueError\u001b[0m: Could not interpret input 'sex'"
          ]
        }
      ]
    },
    {
      "metadata": {
        "trusted": true
      },
      "cell_type": "code",
      "source": "import seaborn as sns\n",
      "execution_count": 47,
      "outputs": []
    },
    {
      "metadata": {
        "trusted": true
      },
      "cell_type": "code",
      "source": "print (sns.factorplot('Sex', data=titanic_df,kind='count'))",
      "execution_count": 49,
      "outputs": [
        {
          "output_type": "stream",
          "text": "/home/nbuser/anaconda3_501/lib/python3.6/site-packages/seaborn/categorical.py:3666: UserWarning: The `factorplot` function has been renamed to `catplot`. The original name will be removed in a future release. Please update your code. Note that the default `kind` in `factorplot` (`'point'`) has changed `'strip'` in `catplot`.\n  warnings.warn(msg)\n",
          "name": "stderr"
        },
        {
          "output_type": "stream",
          "text": "<seaborn.axisgrid.FacetGrid object at 0x7f834cde1cf8>\n",
          "name": "stdout"
        },
        {
          "output_type": "display_data",
          "data": {
            "image/png": "[encoded data removed]",
            "text/plain": "<Figure size 360x360 with 1 Axes>"
          },
          "metadata": {
            "needs_background": "light"
          }
        }
      ]
    },
    {
      "metadata": {
        "trusted": true
      },
      "cell_type": "code",
      "source": "sns.catplot('Pclass',data=titanic_df,hue='Sex',kind='count')#factorplot yerine catplot kullanılabilir\n",
      "execution_count": 53,
      "outputs": [
        {
          "output_type": "execute_result",
          "execution_count": 53,
          "data": {
            "text/plain": "<seaborn.axisgrid.FacetGrid at 0x7f834c5916d8>"
          },
          "metadata": {}
        },
        {
          "output_type": "display_data",
          "data": {
            "image/png": "[encoded data removed]",
            "text/plain": "<Figure size 430.5x360 with 1 Axes>"
          },
          "metadata": {
            "needs_background": "light"
          }
        }
      ]
    },
    {
      "metadata": {
        "trusted": true
      },
      "cell_type": "code",
      "source": "import matplotlib.pyplot as plt\nERP = ['Infor','Oracle','SAP','Axapta']\npazar_payi = [10,30,45,15]\ncolors = ['yellow','green','red','blue']\nplt.pie(pazar_payi,labels=ERP,colors=colors)\nplt.axis('equal')",
      "execution_count": 54,
      "outputs": [
        {
          "output_type": "execute_result",
          "execution_count": 54,
          "data": {
            "text/plain": "(-1.11637372803214,\n 1.1007797090739162,\n -1.1163737124158366,\n 1.1007797083302826)"
          },
          "metadata": {}
        },
        {
          "output_type": "display_data",
          "data": {
            "image/png": "[encoded data removed]",
            "text/plain": "<Figure size 432x288 with 1 Axes>"
          },
          "metadata": {}
        }
      ]
    },
    {
      "metadata": {
        "trusted": true
      },
      "cell_type": "code",
      "source": "import pandas as pd\ndata = {'series1':[1,3,4,3,5,6],\n       'series2':[2,4,5,2,4,3],\n       'series3':[3,2,3,1,3,4]}\ndf = pd.DataFrame(data)\ndf.plot(kind='bar')\n",
      "execution_count": 55,
      "outputs": [
        {
          "output_type": "execute_result",
          "execution_count": 55,
          "data": {
            "text/plain": "<matplotlib.axes._subplots.AxesSubplot at 0x7f834c52a668>"
          },
          "metadata": {}
        },
        {
          "output_type": "display_data",
          "data": {
            "image/png": "[encoded data removed]",
            "text/plain": "<Figure size 432x288 with 1 Axes>"
          },
          "metadata": {
            "needs_background": "light"
          }
        }
      ]
    },
    {
      "metadata": {
        "trusted": true
      },
      "cell_type": "code",
      "source": "import pandas as pd\nfrom IPython.display import display",
      "execution_count": 56,
      "outputs": []
    },
    {
      "metadata": {
        "trusted": true
      },
      "cell_type": "code",
      "source": "data = {'isim': [\"Kaya\", \"meltem\", \"temel\", \"bekir\"],\n        'sehir' : [\"izmir\", \"istanbul\", \"ordu\", \"ankara\"],\n        'yas' : [47, 73, 53, 33]\n       }\n\ndata_pandas = pd.DataFrame(data)\ndisplay(data_pandas)\n",
      "execution_count": 57,
      "outputs": [
        {
          "output_type": "display_data",
          "data": {
            "text/html": "<div>\n<style scoped>\n    .dataframe tbody tr th:only-of-type {\n        vertical-align: middle;\n    }\n\n    .dataframe tbody tr th {\n        vertical-align: top;\n    }\n\n    .dataframe thead th {\n        text-align: right;\n    }\n</style>\n<table border=\"1\" class=\"dataframe\">\n  <thead>\n    <tr style=\"text-align: right;\">\n      <th></th>\n      <th>isim</th>\n      <th>sehir</th>\n      <th>yas</th>\n    </tr>\n  </thead>\n  <tbody>\n    <tr>\n      <th>0</th>\n      <td>Kaya</td>\n      <td>izmir</td>\n      <td>47</td>\n    </tr>\n    <tr>\n      <th>1</th>\n      <td>meltem</td>\n      <td>istanbul</td>\n      <td>73</td>\n    </tr>\n    <tr>\n      <th>2</th>\n      <td>temel</td>\n      <td>ordu</td>\n      <td>53</td>\n    </tr>\n    <tr>\n      <th>3</th>\n      <td>bekir</td>\n      <td>ankara</td>\n      <td>33</td>\n    </tr>\n  </tbody>\n</table>\n</div>",
            "text/plain": "     isim     sehir  yas\n0    Kaya     izmir   47\n1  meltem  istanbul   73\n2   temel      ordu   53\n3   bekir    ankara   33"
          },
          "metadata": {}
        }
      ]
    },
    {
      "metadata": {
        "trusted": true
      },
      "cell_type": "code",
      "source": "import pandas as pd\nfrom IPython.display import display\nprint",
      "execution_count": 58,
      "outputs": [
        {
          "output_type": "execute_result",
          "execution_count": 58,
          "data": {
            "text/plain": "<function print>"
          },
          "metadata": {}
        }
      ]
    },
    {
      "metadata": {
        "trusted": true
      },
      "cell_type": "code",
      "source": "display(data_pandas[data_pandas.yas > 40])\n",
      "execution_count": 59,
      "outputs": [
        {
          "output_type": "display_data",
          "data": {
            "text/html": "<div>\n<style scoped>\n    .dataframe tbody tr th:only-of-type {\n        vertical-align: middle;\n    }\n\n    .dataframe tbody tr th {\n        vertical-align: top;\n    }\n\n    .dataframe thead th {\n        text-align: right;\n    }\n</style>\n<table border=\"1\" class=\"dataframe\">\n  <thead>\n    <tr style=\"text-align: right;\">\n      <th></th>\n      <th>isim</th>\n      <th>sehir</th>\n      <th>yas</th>\n    </tr>\n  </thead>\n  <tbody>\n    <tr>\n      <th>0</th>\n      <td>Kaya</td>\n      <td>izmir</td>\n      <td>47</td>\n    </tr>\n    <tr>\n      <th>1</th>\n      <td>meltem</td>\n      <td>istanbul</td>\n      <td>73</td>\n    </tr>\n    <tr>\n      <th>2</th>\n      <td>temel</td>\n      <td>ordu</td>\n      <td>53</td>\n    </tr>\n  </tbody>\n</table>\n</div>",
            "text/plain": "     isim     sehir  yas\n0    Kaya     izmir   47\n1  meltem  istanbul   73\n2   temel      ordu   53"
          },
          "metadata": {}
        }
      ]
    },
    {
      "metadata": {
        "trusted": true
      },
      "cell_type": "code",
      "source": "import sys\nprint(\"Python version: {}\".format(sys.version))",
      "execution_count": 60,
      "outputs": [
        {
          "output_type": "stream",
          "text": "Python version: 3.6.6 |Anaconda, Inc.| (default, Jun 28 2018, 17:14:51) \n[GCC 7.2.0]\n",
          "name": "stdout"
        }
      ]
    },
    {
      "metadata": {
        "trusted": true
      },
      "cell_type": "code",
      "source": "import pandas as pd\nprint(\"pandas version: {}\".format(pd.__version__))",
      "execution_count": 61,
      "outputs": [
        {
          "output_type": "stream",
          "text": "pandas version: 0.23.4\n",
          "name": "stdout"
        }
      ]
    },
    {
      "metadata": {
        "trusted": true
      },
      "cell_type": "code",
      "source": "import matplotlib\nprint(\"matplotlib version: {}\".format(matplotlib.__version__))",
      "execution_count": 62,
      "outputs": [
        {
          "output_type": "stream",
          "text": "matplotlib version: 3.0.0\n",
          "name": "stdout"
        }
      ]
    },
    {
      "metadata": {
        "trusted": true
      },
      "cell_type": "code",
      "source": "import urllib.request\nfrom lxml import html",
      "execution_count": 63,
      "outputs": []
    },
    {
      "metadata": {
        "trusted": true
      },
      "cell_type": "code",
      "source": "url = \"http://www.infolanka.com/miyuru_gee/art/art.html\"\npage = html.fromstring(urllib.request.urlopen(url).read())",
      "execution_count": 64,
      "outputs": []
    },
    {
      "metadata": {
        "trusted": true
      },
      "cell_type": "code",
      "source": "for link in page.xpath(\"//a\"):\n    print (\"Name\", link.text, \"URL\", link.get(\"href\"))",
      "execution_count": 65,
      "outputs": [
        {
          "output_type": "stream",
          "text": "Name Aathma Liyanage URL athma.html\nName Abewardhana Balasuriya URL abewardhana.html\nName Aelian Thilakeratne URL aelian_thi.html\nName Ahamed Mohideen URL ahamed.html\nName Ajantha Nakandala URL ajantha_nakandala.html\nName Ajith Ambalangoda URL ajith_ambalangoda.html\nName Ajith Ariayaratne URL ajith_ariyaratne.html\nName Ajith Muthukumarana URL ajith_muthu.html\nName Ajith Paranawithana URL ajith_parana.html\nName Alian De Zoysa URL alian_zoysa.html\nName Allen Ratnayake URL allen_ratnayake.html\nName A.M. Raja URL amraja.html\nName Amara Ranatunga URL amara.html\nName Amaradeva W. D. URL amaradeva.html\nName Amarasiri Peiris URL amarasiri.html\nName Amarasoma Samarakkody URL amarasoma.html\nName Ameen M.I.M. URL ameen_min.html\nName Amith Walpola URL amith.html\nName Amitha Dalugama URL amitha.html\nName A.M.U. Raj URL amu.html\nName Amuthans Annamalai URL amuthans_annamalai.html\nName Ananda Kaviratne URL ananda_kaviratne.html\nName Ananda Perera URL ananda_perera.html\nName Ananda Samarakoon URL ananda_sama.html\nName Ananda Weerasiri URL ananda.html\nName Anil Bharathi URL anil.html\nName Anil Perera URL anil_perera.html\nName Anil De Silva URL anil_desilva.html\nName Anjaleen Gunathilake URL anjaleen.html\nName Annesley Malawana URL annesly.html\nName Annesley Nanayakkara URL anesley_nanayakkara.html\nName Annie Boteju URL annie_boteju.html\nName Anoja Weerasinghe URL anoja_weera.html\nName Anulawathi V.P. URL anulawathi_vp.html\nName Anton Jones URL anton.html\nName Anton Jude URL anton_jude.html\nName Anton Kolambage URL anton_kolambage.html\nName Anton Rodrigo URL anton_rodrigo.html\nName Anton Samanpriya URL anton_samanpriya.html\nName Anton Silva URL anton_silva.html\nName Anton Senanayake URL anton_sena.html\nName Anton Thomas URL anton_thomas.html\nName Antonette Coorey URL antonette.html\nName Anula Bulathsinghala URL anula_bulath.html\nName Anura Rajapakse URL anura_rajapakse.html\nName Anura Senanayake URL anura_senanayake.html\nName Anura Wendabona URL anura_wenda.html\nName Anuradha Nandasiri URL anuradha.html\nName Anuradha Perera URL anuradha_perera.html\nName Anuruddha Priyankara URL anuruddha_priyankara.html\nName Anusha Malwatte URL anusha_malwatte.html\nName Anusha Nanayakkara URL anusha_nana.html\nName Apsara De Silva URL apsara_desilva.html\nName Ariyaratne Yapa URL ariyaratne_yapa.html\nName Aruna Shanthi URL aruna_shanthi.html\nName ArunaSri Ariyadasa URL arunasri_ariyadasa.html\nName Asanga Priyamantha Peiris URL asanga_peiris.html\nName Asuntha Karunaratne URL asuntha.html\nName Asiri Priyantha URL asiri_priyantha.html\nName Asoka Devi URL asoka_devi.html\nName Asoka Peiris URL asoka_peiris.html\nName Athula Adikari URL athula_adikari.html\nName Athula Somasiri URL athula_somasiri.html\nName AthulaSri Gamage URL athula_sri.html\nName Aurnest Costa URL aurnest_costa.html\nName Aurnest Perera URL aurnest.html\nName Balasarawsathi R. URL balasarawsathi.html\nName Bambaras URL bambaras.html\nName Bandara Athauda URL bandara.html\nName Bandara Seneviratne URL bandara_senevi.html\nName Bandula Wijeweera URL bandula.html\nName Basil Dias URL basil_dias.html\nName Bathiya & Santhush URL bathiya.html\nName Bellwood Group URL bellwood.html\nName Ben Sirimanne URL ben_siri.html\nName Benedict Fernando URL benedict_fernando.html\nName Bentota Bees URL bentota_bees.html\nName Bertrum Fernando URL bertrum_fernando.html\nName Bhadrajee Jayathilake URL bhadrajee.html\nName Bhagyawathi URL bhagyawathi.html\nName Blue Diamond URL blue_diamond.html\nName Boniface Fernando URL boniface_fernando.html\nName Bonny Fernando URL bonny_fernando.html\nName Bravo Ceylonians URL bravo_ceylonians.html\nName B.S. Perera URL bs_perera.html\nName Buddhi Pathirana URL buddhi_pathirana.html\nName C.D. Fonseka URL cd_fonseka.html\nName Camilus Perera URL camilus_perera.html\nName Ceciliana Dias URL ceciliana_dias.html\nName Chamara Ranawaka URL chamara_ranawaka.html\nName Chamara Weerasinghe URL chamara_weera.html\nName Chamika Sirimanne URL chamika.html\nName Chaminda Hemaratne URL chaminda_hemaratne.html\nName Champa Kalhari URL champa_kalhari.html\nName Chandana Liyanarachchi URL chandana.html\nName Chandana Perera URL chandana_perera.html\nName Chandani Gunathilake URL chandani1.html\nName Chandani Hettiarachchi URL chandani.html\nName Chandra Cabraal URL chandra_cabraal.html\nName Chandra De Silva URL chandra_de.html\nName Chandra Devadithya URL chandra_devadithya.html\nName Chandra Wijewardena URL chandra_wije.html\nName Chandrakumara Kadanarachchi URL chandrakumara.html\nName Chandralekha Perera URL chandralekha.html\nName Chandranath Wanninayake URL chandranath.html\nName Chandrani Gunawardena URL chandrani_guna.html\nName Chandrani Kaldera URL chandrani_kaldera.html\nName Chandrani Manel URL chandrani_manel.html\nName Chandrani Weerasinghe URL chandrani_weera.html\nName Chandrapala M. D. URL chandrapala_md.html\nName Chandrasena Hettiarachchi URL chandrasena_hetti.html\nName Chandrasena R.A. URL chandrasena_ra.html\nName Chandrika Siriwardena URL chandrika.html\nName Charitha Priyadarshani URL charitha.html\nName Charles Perera URL charles_perera.html\nName Chitra Alwis URL chitra_alwis.html\nName Chitra Somapala URL chitra.html\nName Chitra Suraweera URL chitra_suraweera.html\nName Christopher Paul URL christopher_paul.html\nName Christy Lenard Perera URL christy.html\nName Chuti Padmaperuma URL chuti_padmaperuma.html\nName Clarence Rodrigo URL clarence_rodrigo.html\nName Clarence Wijewardena URL clarence.html\nName Claris De Silva URL claris_desilva.html\nName C.L. Fonseka URL cl_fonseka.html\nName Clode & The Sensations URL clode&sensations.html\nName Clode De Soysa URL clode.html\nName Colleagues URL colleagues.html\nName Corrine Almeida URL corrin.html\nName Cristeen Ranasinghe URL cristeen.html\nName C.T. Fernando URL ct.html\nName Cyril Dharmawardana URL cyril_dharmawardana.html\nName Cyril Dobawela URL cyril_dobawela.html\nName Cyril Human URL cyril_human.html\nName Cyril Jayawardena URL cyril_jayawardena.html\nName Daisy Selina URL daisy_selina.html\nName Dalreen Arnolda URL dalreen.html\nName Damayanthi Ekanayake URL damayanthi_eka.html\nName Damayanthi Gamage URL damayanthi_gamage.html\nName Damayanthi Jayasooriya URL damayanthi.html\nName Damith Asanka URL damith_asanka.html\nName Dammika Walpola URL dammika_walpola.html\nName Darmadasa Walpola URL darmadasa.html\nName Darshana Pramod URL darshana_pramod.html\nName Darshani Chandrasena URL darshani_chandrasena.html\nName Daya Hemantha Abeysekera URL daya_abey.html\nName Daya Nellampitiya URL daya_nellampitiya.html\nName Daya Ratnasekera URL daya_ratnasekera.html\nName Dayan Vitharana URL dayan_vitharana.html\nName Dayaratne Perera URL dayaratne_perera.html\nName Dayaratne P.V. URL dayaratne_pv.html\nName Dayaratne Ranatunga URL dayaratne.html\nName Dayasiri Fernando URL dayasiri.html\nName D.D. Gunasena URL dd_gunasena.html\nName Deepa Hettige URL deepa_hettige.html\nName Deepa Wydyaratne URL deepa.html\nName Deepal Silva URL deepal_silva.html\nName Deepika Priyadarshani URL deepika.html\nName Derick De Silva URL derick.html\nName Des Kelly URL des_kelly.html\nName Deshapriya Wickramasinghe URL deshapriya_wickramasinghe.html\nName Desmond Rodrigo URL desmond_rodrigo.html\nName Desmond De Silva URL desmond.html\nName Devaraj_K.S. URL devaraj_ks.html\nName Devadasa De Silva URL devadasa_desilva.html\nName Devananda Widyasekara URL devananda.html\nName Dhamma Jagoda URL dhamma_jagoda.html\nName Dhammika Karunaratne URL dhammika_karu.html\nName Dhanapala Udawatte URL dhanapala_udawatte.html\nName Dharmadasa Perera URL dharmadasa_perera.html\nName Dharmaraja Students URL dharmaraja_students.html\nName Dharmaratne Brothers URL dharmaratne_bro.html\nName Dickson Hemantha URL dickson_hemantha.html\nName Dilantha Fonseka URL dilantha_fonseka.html\nName Dileepa URL dileepa.html\nName Dimitra Ratnayake URL dimitra.html\nName Dinesh Nakandala URL dinesh_nakandala.html\nName Disna Atapattu URL disna_atapattu.html\nName Don Benedict URL don_benedict.html\nName Don Henry URL don_henry.html\nName Don Sirisena URL don_sirisena.html\nName Duleeka Marapona URL duleeka.html\nName Dushan Jayathilake URL dushan_jaya.html\nName Eddie Jayamanne URL eddie.html\nName Eddie De Silva URL eddie_desilva.html\nName Edna Sugathapala URL edna_sugathapala.html\nName Edward Fernando URL edward_fer.html\nName Edward Jayakody URL edward.html\nName Edward Perera URL edward_perera.html\nName Eral Fernando URL eral.html\nName Eranga & Priyanga URL eranga_priyanga.html\nName Felix Anton URL felix_anton.html\nName Flashback URL flashback.html\nName Fortunes URL fortunes.html\nName Franklin Dasanayake URL franklin_dasanayake.html\nName Franklin Hewavitharana URL franklin_hewa.html\nName Freddy Silva URL freddy.html\nName Gay Sisters URL gay_sisters.html\nName Gamani Dharmaputhra URL gamani_dharma.html\nName Gamani Gunasekera URL gamani_gunasekera.html\nName Gamani Karawita URL gamani_karawita.html\nName Gamani Mendis URL gamani_mendis.html\nName Gamini Geewaratne URL gamini_geewaratne.html\nName Gamini Hettiarachchi URL gamini_hetti.html\nName Gamini Sandanayake URL gamini_sandanayake.html\nName Gamini Sarathchandra URL gamini_sarathchandra.html\nName Geetharani Perera URL geetharani.html\nName Gemini Kantha URL gemini_kantha.html\nName Gemunu Wijesuriya URL gemunu_wijesuriya.html\nName Ginger (Judith White) URL ginger.html\nName Goldern Chimes URL goldern_chimes.html\nName Grace Sahabandu URL grace_sahabandu.html\nName Granvil Rodrigo URL granvil.html\nName Gren Lenardos URL gren_lenardos.html\nName Greshan Ananda URL greshan_ananda.html\nName Greshan Jayamaha URL greshan_jayamaha.html\nName Greta Janet De Silva URL greta_desilva.html\nName G.S.B. Rani Perera URL gsb.html\nName Gunadasa Kapuge URL gunadasa.html\nName Gypsies URL gypsies.html\nName Harrison Silva URL harrison.html\nName Harron Lantra URL harron.html\nName Harry Perera URL harry_perera.html\nName Harsha Bulathsinghala URL harsha_bulath.html\nName Harshana Disanayake URL harshana_disanayake.html\nName Harriet Suraweera URL harriet_suraweera.html\nName Hasitha Gunaratne URL hasitha_gunaratne.html\nName Hector Amarasinghe URL hector.html\nName Hector Silva URL hector_silva.html\nName Heenbanda Gamhatha URL heenbanda.html\nName Helen Attanayake URL helen_attanayake.html\nName Helen Daniel URL helen.html\nName Hemantha Wickramasinghe URL hemantha_wick.html\nName Hemanthi Ranasinghe URL hemanthi_rana.html\nName Henry Jayasena URL henry_jayasena.html\nName Henry Kaldera URL henry.html\nName Henry Perera URL henry_perera.html\nName Hubert Dayasheela URL herbert_daya.html\nName Herby Senaviratne URL herby_senaviratne.html\nName Hesiri Fernando URL hesiri.html\nName Hiranya Dulashani URL hiranya_dulashani.html\nName H.R. Soysa URL hr_soysa.html\nName Hubert Rajapakse URL hubert_rajapakse.html\nName Humming Birds URL humming_birds.html\nName Ibraheem A.R.M. URL ibraheem.html\nName Iman Perera URL iman.html\nName Indeewari Ariyasinghe URL indeewari_ariya.html\nName Indika Prasad URL indika_prasad.html\nName Indika Upamali URL indika_upamali.html\nName Indira Kariyawasam URL indira_kariyawasam.html\nName Indira Samarasekera URL indira_samara.html\nName Indrachapa Bulathsinghala URL indrachapa.html\nName Indrajith Dolamulla URL indrajith_dolamulla.html\nName Indrani Bogoda URL indrani_bogoda.html\nName Indrani Perera URL indrani_perera.html\nName Indrani Senarathna URL indrani_sena.html\nName Indu Premathilake URL indu_pre.html\nName Inthu Rani URL inthu_rani.html\nName Iona De Silva URL iona.html\nName Irangani Perera URL irangani.html\nName Irin De Alwis URL irin_de.html\nName Iromi URL iromi.html\nName Ishak Beag URL ishak_beag.html\nName Ishani Ranganatha URL ishani_ranganatha.html\nName Ishari Sumanasekara URL ishari_sumana.html\nName Ivor Dennis URL ivor_dennis.html\nName Jagath Jayawardena URL jagath_jaya.html\nName Jagath Lakpriya URL jagath_lakpriya.html\nName Jagath Wickramasinghe URL jagath.html\nName Jakson Anthony URL jakson.html\nName Jaliya Ranatunge URL jaliya.html\nName Jamuna Rani URL jamuna.html\nName Janaka Wickramasinghe URL janaka.html\nName Janaki Dissanayake URL janaki.html\nName Janaki URL janaki_u.html\nName Jananath Warakagoda URL jananath_warakagoda.html\nName Jay Brothers URL jay_brothers.html\nName Jaya Sri URL jaya_sri.html\nName Jayaratne S.R. URL jayaratne_sr.html\nName Jayasri Chandrajith URL jayasri.html\nName Jayalath Manoratne URL jayalath_manoratne.html\nName Jayalath Perera URL jayalath_perera.html\nName Jayantha Disanayake URL jayantha_disa.html\nName Jayantha Ratnayake URL jayantha_ratna.html\nName Jayasiri Amarasekera URL jayasiri_amarasekera.html\nName Jayathilake Bandara URL jayathilake_bandara.html\nName Jayathissa Hettiarachchi URL jayathissa.html\nName Jayaweera E.W. URL jayaweera.html\nName Jeevarani Kurukulasuriya URL jeevarani.html\nName Jennat Guruge URL jennat.html\nName Jetliners URL jetliners.html\nName Jikki (Krishna Veni) URL jikki.html\nName Joe Jayasuriya URL joe_jaya.html\nName Joe B. Perera URL joe.html\nName Jowharsha M.D. URL joharsha_md.html\nName Jolly Seeya URL jolly_seeya.html\nName Joseph Perera URL joseph_perera.html\nName Joseph Senaviratne URL joseph_senaviratne.html\nName Jothipala H.R. URL jothipala.html\nName Jude De Zoysa URL jude_zoysa.html\nName Kala Santha URL kala_santha.html\nName Kalawathi URL kalawathi.html\nName Kalinga Ekanayake URL kalinga_ekanayake.html\nName Kamal Addararachchi URL kamal.html\nName Kamal Chitrasena URL kamal_chitrasena.html\nName Kamal Kandarachchi URL kamal_kandana.html\nName Kamal Priyantha URL kamal_priyantha.html\nName Kamal Swarnathilake URL kamal_swarnathilake.html\nName Kamani Sepalika URL kamani_sepalika.html\nName Kanapathy Pillai URL kanapathy.html\nName Kandepola A.L.B. URL kandepola.html\nName Kanthi Weliwaththa URL kanthi_weliwaththa.html\nName Kanthi Walwella URL kanthi_wakwella.html\nName Kanthi Wickramasinghe URL kanthi_wickramasinghe.html\nName Kapila Herath URL kapila_herath.html\nName Kapila Pugalarachchi URL kapila_pugala.html\nName Kareem A.J. URL kareem.html\nName Karunarathna Divulgane URL karunarathna.html\nName Karunaratne Wijewardhana URL karunarathna_wije.html\nName Kasun Kalhara URL kasun_kalhara.html\nName Kaushalya Fernando URL kaushalya.html\nName Keerthi Pasqual URL keerthi.html\nName Kelum Wijesuriya URL kelum.html\nName Kingsley Jayasekera URL kingsley_jaya.html\nName Kingsley Peiris URL kingsley_peiris.html\nName Kithsiri Jayasekara URL kithsiri.html\nName KokilaDevi Weerathunga URL kokila_devi.html\nName Kolithabhabu Dissanayake URL kolitha_bhanu.html\nName Krishantha Erandaka URL krishan_erandaka.html\nName Kularatne K. URL kularatne_k.html\nName Kularatne Tennakoon URL kularatne.html\nName Kumara Ekanayake URL kumar_ekanayake.html\nName Kumarasiri Pathirana URL kumarasiri.html\nName Kumar Weeraratne URL kumar_weeraratne.html\nName Kumarajee Menaka URL kumarajee_menaka.html\nName Kumari Attanayake URL kumari_attanayake.html\nName Kumari Bothota URL kumari_bothota.html\nName Kumari Munasinghe URL kumari_munasinghe.html\nName Kumari Perera URL kumari_perera.html\nName Kumudini Gunawardena URL kumudini_guna.html\nName Kumudu Senaviratne URL kumudu_sena.html\nName Kumudu Weerasinghe URL kumudu_weerasinghe.html\nName Kusuma Abeyratne URL kusuma_abey.html\nName L.M. Perera URL lm_perera.html\nName La Bambas URL labambas.html\nName La Ceylonians URL la_ceylonians.html\nName La Lavinias URL la_lavinias.html\nName Laankika Perera URL laankika.html\nName Lahiru Sandawinna URL lahiru_sanda.html\nName Lakshman Hewavitharana URL lakshman_hewa.html\nName Lakshmi Bai URL lakshmi_bai.html\nName Lakshman Hilmi URL lakshman_hilmi.html\nName Lakshman Rodrigo URL lakshman_rodrigo.html\nName Lakshman Wijesekara URL lakshman.html\nName Lal Amarasiri URL lal_amarasiri.html\nName Lal Silva URL lal_silva.html\nName Lalini Somasiri URL lalini_somasiri.html\nName Lalith Dawundasekera URL lalith_dawun.html\nName Lalith Kalubowila URL lalith_kalu.html\nName Lalith Mendis URL lalith_mendis.html\nName Lalith Ponnamperuma URL lalith_ponna.html\nName Lambert Pemawadu URL lambert.html\nName Lasantha Wickramasinghe URL lasantha_wick.html\nName Latha Disanayake URL latha_disa.html\nName Latha Mangeskar URL latha_mangeskar.html\nName Latha Walpola URL latha.html\nName Latiff Bhai URL latiff_bhai.html\nName Lawrance Fernando URL lawrance_fernando.html\nName Lawrence Martin URL lawrence.html\nName Leela Asoka URL leel.html\nName Leela Ranaweera URL leela_rana.html\nName Leelawathi V.P. URL leelawathi_vp.html\nName Lelum Ratnayake URL lelum.html\nName Lesley Fernando URL lesley_fer.html\nName Leslie Thomas URL leslie_thomas.html\nName *Lesser Known Artists* URL lesser_known.html\nName Lester De Silva URL lester_de.html\nName Leticia Peiris URL leticia_peiris.html\nName Lilanthi Karunanayake URL lilanthi.html\nName Lionel Amarasinghe URL lionel_amarasinghe.html\nName Lionel Gunathilake URL lionel_guna.html\nName Lionel Ranwala URL lionel_ranwala.html\nName Little Sisters URL little_sisters.html\nName Louis Rodrigo URL louis_rodrigo.html\nName Los Caballeros URL los_cabiralos.html\nName Los Compandres URL los_compandres.html\nName Los Flemencoes URL los_flemencoes.html\nName Los Muchachos URL los_muchachos.html\nName Lucien Bulathsinghala URL lucien_bulath.html\nName Lucien ??? URL lucien.html\nName Lucky Deva URL lucky_deva.html\nName Luke Henriques URL luke.html\nName Lulu URL lulu.html\nName Madhubashini Randuwa URL madhubashini.html\nName Madhumadhawa Aravinda URL madhumadhawa.html\nName Madhurawathi URL madhurawathi.html\nName Magilin Fernando URL magilin_fernando.html\nName Mahanama Wickramasinghe URL mahanama_wickrama.html\nName Mahendra Gunasinghe URL mahendra_guna.html\nName Mahesh Fernando URL mahesh_fernando.html\nName Mahesh URL mahesh.html\nName Mala Padmini URL mala_padmini.html\nName Malini Bulathsinghala URL malani.html\nName Malini Fonseka URL malini_fonseka.html\nName Malkanthi Nandasiri URL malkanthi.html\nName Malkumari Geetharani URL malkumari_geetharani.html\nName Mallika Kahawita URL mallika_kahawita.html\nName Manel Jayasena URL manel_jaya.html\nName Manel Perera URL manel_perera.html\nName Manel Ranasinghe URL manel_rana.html\nName Manel Seneviratne URL manel_sene.html\nName Manel Waduge URL manel_waduge.html\nName Mangalika Tennakoon URL mangalika_tennakoon.html\nName Manju Randeniya URL manju_randeniya.html\nName Manjula De Silva URL manjula_de.html\nName Manjula Dilrukshi URL manjula_dilrukshi.html\nName Manjula Warnakulasuriya URL manjula_warna.html\nName Manoharan A. E. URL manoharan.html\nName Manoj Fernando URL manoj_ferando.html\nName Marian Peiris URL marian_peiris.html\nName Marians URL marians.html\nName Marriazelle Gunathilake URL marriazel.html\nName Marshal Janatha URL marshal_janatha.html\nName Marshall Wambeck URL marshall_wombayt.html\nName Marzelin Pathirana URL marzelin.html\nName Maxi Jayaweera URL maxi_jaya.html\nName Maxi Lenord URL maxi_lenord.html\nName Mabel Blyth URL mabel_blyth.html\nName Maxwell Fernando URL maxwell_fernando.html\nName Maxwell Mendis URL maxwell.html\nName Maya Damayanthi URL maya_damayanthi.html\nName Mee Maesso URL mee_maesso.html\nName Menik Chandrika URL menik_chandrika.html\nName Menik Jayasekera URL menik_jayasekera.html\nName Menik Jayasekera URL menik_kulukulasuriya.html\nName Menike Attanayake URL menike_attanayake.html\nName Menike Kandanarachchi URL menike_kadana.html\nName Mercy Edirisinghe URL mercy_ediri.html\nName Meril Fernando URL meril_fer.html\nName Meril Perera URL meril_perera.html\nName Mervin Mihidukula URL mervin_mihi.html\nName Mervin Perera URL mervin.html\nName Mervin Silva URL mervin_silva.html\nName Meybal Blythe URL mabel_blythe.html\nName Michael Peiris URL michael_peiris.html\nName Michael Perera URL michael_perera.html\nName Mignon Ratnam URL mignon.html\nName Milton Mallawarachchi URL milton.html\nName Milton Perera URL milton_perera.html\nName Milton Silva URL milton_silva.html\nName Melroy Dharmarathne URL milroy.html\nName Mohamed Hassan URL mohamed_hassan.html\nName Mohan Jayakody URL mohan_jayakody.html\nName Mohan Raj URL mohan.html\nName Mohideen A.M.M. URL mohideen_amm.html\nName Mohideen Beag URL mohideen.html\nName Moonstones URL moonstones.html\nName Moris Dahanayake URL moris_daha.html\nName Moris Barney Wijesinghe URL moris_wije.html\nName M.S. Fernando URL ms.html\nName Muththusami R. URL muththusami.html\nName Nalaka Anjana Kumara URL nalaka_anjana.html\nName Nalaka Weerakoon URL nalaka_weera.html\nName Nalin Perera URL nalin.html\nName Nalin Ranasinghe URL nalin_ranasinghe.html\nName Nalini Ranasinghe URL nalini.html\nName Namal Udugama URL namal.html\nName Nanda Kulasinghe URL nanda_kulasinghe.html\nName Nanda Malini URL nanda.html\nName Nanda Pathirana URL nanda_pathirana.html\nName Nanda Perera URL nanda_perera.html\nName Naomi & The Boys URL naomi.html\nName Narada Disasekera URL narada.html\nName Natasha URL natasha.html\nName Nathasha Perera URL nathasha_perera.html\nName Nawaratna Gamage URL nawaratna_gamage.html\nName Nawaratne Attanayake URL nawaratna_attanayake.html\nName Neal Chandra Pathmage URL neal_pathmage.html\nName Neal Jayasundara URL neal_jaya.html\nName Neal Malalasekera URL neal_malala.html\nName Neal Wickramarachchi URL neal_wickrama.html\nName Neel  Warnakulasuriya URL neel_warna.html\nName Neela Wickramasingha URL neela.html\nName Nelu Adikari URL nelu_adikari.html\nName Nevil Fernando URL nevil.html\nName Nihal Gamhewa URL nihal_gamhewa.html\nName Nihal Jayawardena URL nihal_jayawardena.html\nName Nandasiri P.V. URL pv_nandasiri.html\nName Nihal Muthumani URL nihal_muthumani.html\nName Nihal Nelson URL nihal_nelson.html\nName Nihari Somasiri URL nihari_somasiri.html\nName Nilamathi Pichcheappa URL nilamathi.html\nName Nilmini Thennakoon URL nilmini_thennakoon.html\nName Nimal Gunasekera URL nimal_guna.html\nName Nimal Jayamanna URL nimal.html\nName Nimal Mendis URL nimal_mendis.html\nName Nimal Thilakeratne URL nimal_thilakeratne.html\nName Nimal Weerasinghe URL nimal_weera.html\nName Nimala Atapattu URL nimala_atapattu.html\nName Nimalasiri K.N. URL nimalasiri_kn.html\nName Nimandra Dhananjaya URL nimandra_dhananjaya.html\nName Nimesha Fernando URL nimesha_fernando.html\nName Niranjala Sarojini URL niranjala.html\n",
          "name": "stdout"
        },
        {
          "output_type": "stream",
          "text": "Name Nirasha Perera URL nirasha.html\nName Nirmala Perera URL nirmala_perera.html\nName Nirmala Ranatunge URL nirmala.html\nName Nirmala URL nirmala1.html\nName Nirosha Virajini URL nirosha.html\nName Nishan De Soyza URL nishan.html\nName Nishshanka Diddeniya URL nishshanka.html\nName Nishshanka Wijeratne URL nishshanka_wije.html\nName Nithin Mukesh URL nithin_mukesh.html\nName Nithi Kanagaratnam URL nithi_kanaga.html\nName Noel Ranasinghe URL noel.html\nName Nona Subeida URL nona_subeida.html\nName Noordeen N.M. URL noordeen.html\nName Nuwan Gunawardena URL nuwan_guna.html\nName Nuwan Kumara URL nuwan.html\nName Olban Perera URL olban_perera.html\nName Pani Bharatha URL pani_bharatha.html\nName Paramesh M.P. URL paramesh_mp.html\nName Patty Jinadasa URL patty_jinadasa.html\nName Paul Fernando URL paul.html\nName Percy Rajapakse URL percy.html\nName Peshala Mendis URL peshala.html\nName Peter Rosiro URL peter_rosiro.html\nName Peter Siriwardena URL peter_siriwardena.html\nName Petronella Fernando URL petronella.html\nName Piyadasa G.M. URL piyadasa_gm.html\nName Piyal Amerasinghe URL piyal_amerasinghe.html\nName Piyal Perera URL piyal_perera.html\nName Piyasiri Wijeratne URL piyasiri_wije.html\nName Piyumi Nisansala URL piyumi_nisansala.html\nName P.L.A. Somapala URL pla.html\nName Police Band URL police_band.html\nName Pradeep Weerasinghe URL pradeep_weerasinghe.html\nName Pradeepa Dharmadasa URL pradeepa.html\nName Praxede Fernando URL praxede_fernando.html\nName Premadasa Mudunkotuwa URL premadasa_mudun.html\nName Premaratne W. URL premaratne.html\nName Premasiri Khemadasa URL premasiri_khemadasa.html\nName Premasiri Nanayakkara URL premasiri_nana.html\nName Premnath Jayathilake URL premnath_jayathilake.html\nName Pricila Opatha URL pricila_opatha.html\nName Primrose Jayasinghe URL primrose.html\nName Prince Udaya Priyantha URL prince_udaya.html\nName Priya Peiris URL priya_peiris.html\nName Priya Sooriyasena URL priya.html\nName Priyanath Ratnayake URL priyanath.html\nName Priyanathi Senaratne URL priyanathi_sena.html\nName Priyani Jayasinghe URL priyani_jaya.html\nName Priyanka Weerasekera URL priyanka_weera.html\nName Priyankara Perera URL priyankara.html\nName Priyankara Rammandala URL priyankara_rammandala.html\nName Priyantha Fernando URL priyantha_fernando.html\nName Priyashantha Abeygunawardhana URL priyashantha_a.html\nName Punchihewa M. URL punchihewa.html\nName Punsiri Soysa URL punsiri.html\nName Punya Kathriarachchi URL punya.html\nName Punyasena Gunasinghe URL punyasena.html\nName Purnima Wickramasinghe URL purnima_wick.html\nName Pushparani Ariyaratne URL pushparani.html\nName Pushpa Jayawardena URL pushpa_jaya.html\nName Pushpamala Subasinghe URL pushpamala.html\nName P.V. Nandasiri URL pv_nandasiri.html\nName Raj Senevirathne URL raj.html\nName Raj Wickramasinghe URL raj_wick.html\nName Rajalakshmi K.K. URL rajalakshmi_kk.html\nName Rajeev Sebastian URL rajeev.html\nName Raju Bandara URL raju.html\nName Ramya Senaviratne URL ramya_sena.html\nName Rani Joseph URL rani_joseph.html\nName Rani K. URL krani.html\nName Ranjan Anandappa URL ranjan_anandappa.html\nName Ranjan Jayathilake URL ranjan_jaya.html\nName Ranjith Yapa De Alwis URL ranjith_yapa.html\nName Ranjit Vethakan URL ranjit_vethakan.html\nName Ranidu Lankage URL ranidu_lankage.html\nName Ranil Mallawarachchi URL ranil_malla.html\nName Ranjani Perera URL ranjani_perera.html\nName Ranjith Abeynanda URL ranjith_abey.html\nName Rashmi Sangeetha URL rashmi_sangeetha.html\nName Rathna Lalani URL rathna_lalani.html\nName Ravindra Randeniya URL ravindra_randeniya.html\nName Ravindra Yasas URL ravindra_yasas.html\nName Rejina Perera URL rejina_perera.html\nName Renuka Samath URL renuka.html\nName Reymond Fonseka URL reymond_fonseka.html\nName R.N.G. Rajapakse URL rajapakse_rng.html\nName Rodney Warnakula URL rodney_warna.html\nName Rohan Bulegoda URL rohan_bulegoda.html\nName Rohan Tissera URL rohan_tissera.html\nName Rio Los Serenaders URL rio_los.html\nName Rohana Beddage URL rohana_beddage.html\nName Rohana Bogoda URL rohana_bogoda.html\nName Rohana Karunaratne URL rohan_karuna.html\nName Rohana Siriwardena URL rohana_siri.html\nName Rohana Weerasingha URL rohana_weera.html\nName Rohana Wijaya Sri URL rohana_wijayasri.html\nName Rohini Jayasinghe URL rohini_jaya.html\nName Rohini Sudasinghe URL rohini_sudasinghe.html\nName Rohitha Wijesuriya URL rohitha.html\nName Roma Anthony URL roma_anthony.html\nName Romanis Perera URL romanis_perera.html\nName Romulus De Silva URL romlus_de.html\nName Romesh & Lakshan URL romesh&lakshan.html\nName Romles Perera URL romles_perera.html\nName Ronnie Leech URL ronie.html\nName Rookantha Gunathilaka URL rookantha.html\nName Roshan De Silva URL roshan_desilva.html\nName Roshan Fami URL roshan_fami.html\nName Roshan Fernando URL roshan_fernando.html\nName Rosko Williams URL rosko.html\nName Roy Fonseka URL roy.html\nName Roy Peiris URL roy_peiris.html\nName Rudrani Liyanage URL rudrani.html\nName Rukman Wimalasuriya URL rukman_wimalasuriya.html\nName Rukmani Devi URL rukmani.html\nName Rupa Indumathi URL rupa.html\nName Rupasinghe H.W. URL rupasinghe_hw.html\nName Ruwan Srilal Dalpadado URL ruwan_srilal.html\nName Ruwani Kaushalya URL ruvini_kaushalya.html\nName Ruwani Dunuwila URL ruwani.html\nName Sadiris Silva URL sadiris_silva.html\nName Sagarika Gomes URL sagarika_gomes.html\nName Sahan Ranwala URL sahan_ranwala.html\nName Saliya Wijesinghe URL saliya_wijesinghe.html\nName Samanalayo URL samanalayo.html\nName Saman De Silva URL saman_de.html\nName Saman Jayanath Jinadasa URL saman_jayanath.html\nName Saman Jayantha URL saman_jayantha.html\nName Saman Perera URL saman_perera.html\nName Samantha Perera URL samantha_perera.html\nName Samantha Weeraratne URL samantha_weeraratne.html\nName Samitha Mudunkotuwa URL samitha.html\nName Sampath Tennakoon URL sampath.html\nName Sanath Nandasiri URL sanath.html\nName Sandhaya Bulathsinghala URL sandhaya_bulath.html\nName Sandun Wijesiri URL sandun_wijesiri.html\nName Sandra Deepani URL sandra_deepani.html\nName Sangeeth Wickramasinghe URL sangeeth.html\nName Sangeeth Wijesuriya URL sangeeth_wijesuriya.html\nName Sanjeevani Weerasinghe URL sanjeevani.html\nName Saranaguptha Amarasinghe URL saranaguptha_amarasinghe.html\nName Sarath Kumarasinghe URL sarath_kumarasinghe.html\nName Sarath Nandalal URL sarath_nandalal.html\nName Sarath Ovitigala URL sarath_ovitigala.html\nName Sarath Samarawickrama URL sarath_samarawickrama.html\nName Sarath Sandanayake URL sarath_sanda.html\nName Sashi Vijendra URL sashi_vijendra.html\nName Sashika Nisansala URL sashika_nisansala.html\nName Sathish Perera URL sathish.html\nName Sathyawathi URL sathywathi.html\nName Saumya Kumara YapaBandara URL saumya_kumara.html\nName Sawani Senanayake URL sawani_sena.html\nName Seac Group URL seac_group.html\nName Sedarman A.E. URL sedarman.html\nName Sedrick Fernando URL sedrick_fernando.html\nName Seetha Nanayakkara URL seetha.html\nName Seleen Ayirangani URL seleen_ayirangani.html\nName Sena Fonseka URL sena_fonseka.html\nName Sena K. URL sena.html\nName Senanayaka Veraliyedda URL senanayake.html\nName Sewandi Ranathunge URL sewandi.html\nName Shakila Fernando URL shakila_fernando.html\nName Shakthi URL shakthi.html\nName Shalika Aroshini URL shalika.html\nName Shalitha Abhayawickrama URL shalitha_abhaya.html\nName Shamali Livera URL shamali_livera.html\nName Shamali Perera URL shamali_perera.html\nName Shami Nadeesha URL shami_nadeesha.html\nName Shamil Nanayakkara URL shamil.html\nName Shan URL shan.html\nName Shan De Silva URL shan_desilva.html\nName Shanika Peiris URL shanika_peiris.html\nName Shanika Wanigasekera URL shanika_waniga.html\nName Shantha Jayasinghe URL shantha_jaya.html\nName Shanthi Kumar URL shanthi_kumar.html\nName Shanthikala URL shanthikala.html\nName Sharmila Fonseka URL sharmila.html\nName Shashi Vijendra URL shashi_vijendra.html\nName Sheela Paranamanage URL sheela_parana.html\nName Shelton Muthukudarachchi URL shelton_muthukudarachchi.html\nName Shelton Muthunamage URL shelton_muthu.html\nName Shelton Perera URL shelton_perera.html\nName Shelton Premaratne URL shelton_pre.html\nName Sheyril Perera URL sheyril_perera.html\nName Shiral Devprem URL shiral_devprem.html\nName Shirani Jayanthimala URL shirani_jayanthimala.html\nName Shirani Wickramasinghe URL shirani_wick.html\nName Shiranthi Gunathilake URL shiranthi_gunathilake.html\nName Shirley Blyth URL shirley_blyth.html\nName Shirley Wyjayantha URL shirley.html\nName Shiromala Fernando URL shiromala.html\nName Shiromi Fernando URL shiromi.html\nName Shyamali Bamunusinghe URL shyamali_bamu.html\nName Shyami Fonseka URL shaymi.html\nName Sidney Atygalle URL sidney_atygalle.html\nName Siha Shakthi URL siha_shakthi.html\nName Silver Clan URL silver_clan.html\nName Simple URL simple.html\nName Singing Cousins URL singing_cousins.html\nName Sinhalese Dramatic Club URL sinhalese_dramatic_club.html\nName Sirimal Fernando URL sirimal_fernando.html\nName Sisil Botheju URL sisil_botheju.html\nName Sisira Senaratne URL sisira.html\n",
          "name": "stdout"
        },
        {
          "output_type": "stream",
          "text": "Name Sisira Sumangala URL sisira_sumangala.html\nName Sivanandan R URL sivananda.html\nName Sohan Weerasinghe URL sohan.html\nName Solamon Fonseka URL solamon.html\nName Somapala Pathirage URL somapala.html\nName Soma Kaviratne URL soma_kaviratne.html\nName Somaratne Perera URL somaratne_perera.html\nName Somasiri Fernando URL somasiri.html\nName Somasiri Medagedara URL somasiri_medagedara.html\nName Somathilaka Jayamaha URL somathilaka.html\nName Spitfires URL spitfires.html\nName Srilal Abeykoon URL srilal.html\nName Srikantha Disanayake URL srikantha_disanayake.html\nName Srilal Senaviratne URL srilal_senaviratne.html\nName Srimathi Perera URL srimathi_perera.html\nName Srimathi Sandanayake URL wasantha.html\nName Srimathi Thilakaratne URL shreemathi.html\nName Sripali Edirisinghe URL sripali_ediri.html\nName Sriya Kariyawasam URL sriya_kariyawasam.html\nName Sriyani Chandrasena URL sriyani_chandrasena.html\nName Sriyani Senarathne URL sriyani_senarathne.html\nName Stanley Liyanage URL stanley_liyanage.html\nName Stanley Mallawarachchi URL stanley_mallawa.html\nName Stanley Peries URL stanley.html\nName Subani Harshani Muthukumarana URL subani_muthu.html\nName Subhani Amaradeva URL subhani.html\nName Sudesh Managodage URL sudesh_managodage.html\nName Sujatha Attanayake URL sujatha.html\nName Sujeewa K. URL sujeewa_k.html\nName Sujeewa Priyanthi URL sujeewa_priyanthi.html\nName Sumathipala Perera URL sumathipala.html\nName Sumanasiri G. URL sumanasiri.html\nName Suminda Sirisena URL suminda_sirisena.html\nName Sumith Ahangama URL sumith_ahangama.html\nName Sunflower URL sunflower.html\nName Sunil Edirisinghe URL sunil_ediri.html\nName Sunil Fernando URL sunil_fernando.html\nName Sunil Kalubowila URL sunil_kalu.html\nName Sunil Perera URL sunil_perera.html\nName Sunil Santha URL sunil_shantha.html\nName Sunil Siriwardena URL sunil_siriwardena.html\nName Sunil Weliwaththa URL sunil_weliwatte.html\nName Sunilka Vithanage URL sunilka_vithanage.html\nName SunShines URL sun_shines.html\nName Super Goldern Chimes URL super_goldern.html\nName Super Stars URL super_stars.html\nName Supriya Abeysekera URL supriya_abeysekera.html\nName Suramya Athukorala URL suramya_athu.html\nName Sureshini Wanigasuriya URL sureshini.html\nName SuriyaKumara Muththalage URL muththalage.html\nName Suriyasankar Molligoda URL suriyasankar_m.html\nName Susantha Nakandala URL susantha_nakandala.html\nName Sushila P. URL sushila_p.html\nName Susil Fernando URL susil_fer.html\nName Susil Kumar URL susil_kumar.html\nName Susil Premaratne URL susil.html\nName Susila Jayasinghe URL susila_jayasinghe.html\nName Susila Ratnayake URL susila.html\nName Swarna Abeyratne URL swarna_abeyratne.html\nName Swarna Athukorala URL swarna_athukorala.html\nName Swarna De Silva URL swarna_desilva.html\nName Swarnalatha URL swarnalatha.html\nName Swarnalatha Kaweeshwara URL swarnalatha_kawee.html\nName W. Sylvester URL sylvester.html\nName T. M. Jayaratne URL tm.html\nName Theja Damayanthi URL theja_damayanthi.html\nName Thihari Wickramarachchi URL thihari_wickrama.html\nName Thilak Abeysinghe URL thilak_abey.html\nName Thilak Mayurathissa URL thilak_mayurathissa.html\nName Thilakasiri Fernando URL thilakasiri_fernando.html\nName Thilakasiri Ratnayake URL thilakasiri.html\nName Thilangani Chandrasena URL thilangani_chandrasena.html\nName 3 Sisters URL three_sisters.html\nName Thyaga N. Edward URL thyaga.html\nName Tissa Nagodavithana URL tissa_nagoda.html\nName Titus C. Perera URL titus.html\nName Titus Samaraweera URL titus_samaraweera.html\nName Tony Hasan URL tony_hasan.html\nName Trilicia Gunawardena URL trilicia.html\nName Trio Sonics URL trio_sonic.html\nName Tuder Kandanarachchi URL tuder_kandana.html\nName Tudor Jayashantha URL tudor_jaya.html\nName Tyronne Maddumage URL tyronne.html\nName U.A.S. Perera (Siri Ayiya) URL uas_perera.html\nName Udaya Kumara URL udaya_kumara.html\nName U.D. Perera URL ud_perera.html\nName Udeni Chandrasiri URL udeni_chandrasiri.html\nName Unknown Artists URL unknown.html\nName Upali Amaranayake URL upali_amaranayake.html\nName Upali De Almeida URL upali_almeida.html\nName Upali Jayamanne URL upali_jayamanne.html\nName Upali Kannangara URL upali.html\nName Upali Liyanage URL upali_liyanage.html\nName Upali Perera URL upali_perera.html\nName Upali Ranthilake URL upali_ranthilake.html\nName Upali Thewarapperuma URL upali_thewarapperuma.html\nName Upendra Weerasinghe URL upendra_weerasinghe.html\nName Upul Perera URL upul_perera.html\nName Uresha Ravihari URL uresha.html\nName Vajira Balasuriya URL vajira.html\nName Vanaja Sirinivasan URL vanaja_s.html\nName Vasudevi Perl URL vasudevi.html\nName Veda S.S. URL weada_ss.html\nName Veena Jayakody URL veena_jayakody.html\nName Vernon Perera URL vernon.html\nName Victor Liyanage URL victor_liyanage.html\nName Victor Kandanarachchi URL victor_kandana.html\nName Victor Perera URL victor_perera.html\nName Victor Ratnayake URL victor.html\nName Victor Vijayantha URL victor_vijayantha.html\nName Victor Wickramage URL victor_wickramage.html\nName Vijaya Karunagoda URL vijaya_karunagoda.html\nName Vijaya Kumaranatunga URL vijaya.html\nName Vijithananda Sumanasekera URL vijithananda.html\nName Vimal Wickramarachchi URL vimal_wickrama.html\nName Vincent De Paul Peiris URL vincent.html\nName Vincent M.K. URL vincent_mk.html\nName Vincent Perera URL vincent_perera.html\nName Vincent Sirimanne URL vincent_sirimanne.html\nName Vinoodini URL vinoodini.html\nName Vinnie Perera URL vinnie.html\nName Vinuka Vinsara URL vinuka.html\nName Violofone URL violofone.html\nName Vishaka Siriwardena URL vishaka.html\nName Viviyan Boralessa URL viviyan_boralessa.html\nName W. D. Ariyasinghe URL wd_ariyasinghe.html\nName Wally Bastiansz URL wally.html\nName Walter Fernando URL walter.html\nName Waradharaja V. URL wardharaja.html\nName Waradatta Aravinda URL waradatta.html\nName Wasantha Sandanayake URL wasantha_sandanayake.html\nName Wasantha Thilakangani URL wasantha_thilakangani.html\nName Wasanthi Chathurani URL wasanthi_chathurani.html\nName Weerasiri Malwatte URL weerasiri_malwatte.html\nName Wijaya Nandasiri URL wijaya_nandasiri.html\nName Wijayabandara Welithuduwa URL wijayabandara.html\nName Wijayasiriwardena Polonnowita URL wijayasiriwardena.html\nName Wijerathne Warakagoda URL wijerathne.html\nName Wijesena Kodippili URL wijesena_kodippili.html\nName Wijesundara Weragoda URL wijesundara.html\nName Wilbert Anthony URL wilbert.html\nName Wilbert Anthony (2) URL wilbert2.html\nName Wilson Liyanage URL wilson_liyanage.html\nName Wimal J. Sagara URL wimal_sagara.html\nName Wimala Amaradeva URL wimala.html\nName Wimalasiri W.F. URL wimalasiri_wf.html\nName Winslow Six URL winslow_six.html\nName Winson D.R. URL winson_dr.html\nName X'periments URL xperiments.html\nName Yamuna Sumanasekera URL yamuna_sumana.html\nName Yamuna Vinodani URL yamuna_vinodani.html\nName Yasapala Perera URL yasapala.html\nName Yashodara Sarathchandra URL yashodara.html\nName Yohan Arjuna URL yohan_arjuna.html\nName Youth Council URL youth_council.html\nName None URL http://www.infolanka.com\n",
          "name": "stdout"
        }
      ]
    },
    {
      "metadata": {
        "trusted": true
      },
      "cell_type": "code",
      "source": "import pandas as pd\n\nurl='http://floodobservatory.colorado.edu/Version3/MasterListrev.htm'\nveri=pd.read_html(url, header=0)\n\nprint (veri[0])\n",
      "execution_count": 66,
      "outputs": [
        {
          "output_type": "stream",
          "text": "    Register #  Annual DFO #  (discontinued)  Glide #             Country  \\\n0         4878                           NaN      NaN                 NaN   \n1         4877                           NaN      NaN                 NaN   \n2         4876                           NaN      0.0                 USA   \n3         4875                           NaN      0.0            Tanzania   \n4         4874                           NaN      0.0             Burundi   \n5         4873                           NaN      0.0           Australia   \n6         4872                           NaN      0.0          Mozambique   \n7         4871                           NaN      0.0      United Kingdom   \n8         4870                           NaN      0.0            Zimbabwe   \n9         4869                           NaN      0.0                Peru   \n10        4868                           NaN      0.0              Brazil   \n11        4867                           NaN      0.0            Madascar   \n12        4866                           NaN      0.0           Indonesia   \n13        4865                           NaN      0.0            Zimbabwe   \n14        4864                           NaN      0.0           Argentina   \n15        4863                           NaN      0.0          Mozambique   \n16        4862                           NaN      0.0               Spain   \n17        4861                           NaN      0.0           Sri Lanka   \n18        4860                           NaN      0.0           Indonesia   \n19        4859                           NaN      0.0           Indonesia   \n20        4858                           NaN      0.0           Indonesia   \n21        4857                           NaN      0.0            Colombia   \n22        4856                           NaN      0.0                Peru   \n23        4855                           NaN      0.0            Colombia   \n24        4854                           NaN      0.0                 USA   \n25        4853                           NaN      0.0                Peru   \n26        4852                           NaN      0.0              Uganda   \n27        4851                           NaN      0.0             Somalia   \n28        4850                           NaN      0.0              Rwanda   \n29        4849                           NaN      0.0        South Africa   \n..         ...                           ...      ...                 ...   \n44        4834                           NaN      0.0              Mexico   \n45        4833                           NaN      0.0            Malaysia   \n46        4832                           NaN      0.0               India   \n47        4831                           NaN      0.0         Philippines   \n48        4830                           NaN      0.0             Somalia   \n49        4829                           NaN      0.0              Uganda   \n50        4828                           NaN      0.0             Burundi   \n51        4827                           NaN      0.0         Philippines   \n52        4826                           NaN      0.0      United Kingdom   \n53        4825                           NaN      0.0  Democratic Republi   \n54        4824                           NaN      0.0             Austria   \n55        4823                           NaN      0.0               Japan   \n56        4822                           NaN      0.0               India   \n57        4821                           NaN      0.0            Colombia   \n58        4820                           NaN      0.0             Nigeria   \n59        4819                           NaN      0.0               Ghana   \n60        4818                           NaN      0.0               Kenya   \n61        4817                           NaN      0.0                Togo   \n62        4816                           NaN      0.0                Iran   \n63        4815                           NaN      0.0             Ecuador   \n64        4814                           NaN      0.0            Tanzania   \n65        4813                           NaN      0.0         South Sudan   \n66        4812                           NaN      0.0             Uruguay   \n67        4811                           NaN      0.0         South Korea   \n68        4810                           NaN      0.0              Mexico   \n69        4809                           NaN      0.0           Venezuela   \n70        4808                           NaN      0.0             Senegal   \n71        4807                           NaN      0.0               Sudan   \n72        4806                           NaN      0.0               Kenya   \n73        4805                           NaN      0.0             Nigeria   \n\n            Other  Nations  Affected  Detailed Locations  \\\n0             NaN      NaN       NaN                 NaN   \n1             NaN      NaN       NaN                 NaN   \n2               0      NaN       NaN                 NaN   \n3               0      NaN       NaN                 NaN   \n4               0      NaN       NaN                 NaN   \n5               0      NaN       NaN                 NaN   \n6               0      NaN       NaN                 NaN   \n7               0      NaN       NaN                 NaN   \n8               0      NaN       NaN                 NaN   \n9               0      NaN       NaN                 NaN   \n10              0      NaN       NaN                 NaN   \n11              0      NaN       NaN                 NaN   \n12              0      NaN       NaN                 NaN   \n13              0      NaN       NaN                 NaN   \n14              0      NaN       NaN                 NaN   \n15              0      NaN       NaN                 NaN   \n16              0      NaN       NaN                 NaN   \n17              0      NaN       NaN                 NaN   \n18              0      NaN       NaN                 NaN   \n19              0      NaN       NaN                 NaN   \n20              0      NaN       NaN                 NaN   \n21              0      NaN       NaN                 NaN   \n22              0      NaN       NaN                 NaN   \n23              0      NaN       NaN                 NaN   \n24              0      NaN       NaN                 NaN   \n25              0      NaN       NaN                 NaN   \n26              0      NaN       NaN                 NaN   \n27              0      NaN       NaN                 NaN   \n28              0      NaN       NaN                 NaN   \n29              0      NaN       NaN                 NaN   \n..            ...      ...       ...                 ...   \n44            USA      NaN       NaN                 NaN   \n45              0      NaN       NaN                 NaN   \n46      Sri Lanka      NaN       NaN                 NaN   \n47              0      NaN       NaN                 NaN   \n48       Ethiopia      NaN       NaN                 NaN   \n49              0      NaN       NaN                 NaN   \n50              0      NaN       NaN                 NaN   \n51              0      NaN       NaN                 NaN   \n52              0      NaN       NaN                 NaN   \n53  Central Afric      NaN       NaN                 NaN   \n54              0      NaN       NaN                 NaN   \n55              0      NaN       NaN                 NaN   \n56              0      NaN       NaN                 NaN   \n57              0      NaN       NaN                 NaN   \n58              0      NaN       NaN                 NaN   \n59              0      NaN       NaN                 NaN   \n60              0      NaN       NaN                 NaN   \n61          Benin      NaN       NaN                 NaN   \n62              0      NaN       NaN                 NaN   \n63              0      NaN       NaN                 NaN   \n64              0      NaN       NaN                 NaN   \n65              0      NaN       NaN                 NaN   \n66              0      NaN       NaN                 NaN   \n67              0      NaN       NaN                 NaN   \n68              0      NaN       NaN                 NaN   \n69              0      NaN       NaN                 NaN   \n70              0      NaN       NaN                 NaN   \n71              0      NaN       NaN                 NaN   \n72              0      NaN       NaN                 NaN   \n73              0      NaN       NaN                 NaN   \n\n   Validation (post  event #3503)      Began        ...         Centroid X  \\\n0                             NaN        NaN        ...                NaN   \n1                             NaN        NaN        ...                NaN   \n2                       FloodList  10-Feb-20        ...         -88.336400   \n3                       FloodList   1-Feb-20        ...          35.282100   \n4                       FloodList   7-Feb-20        ...          29.987000   \n5                       FloodList   7-Feb-20        ...         148.607000   \n6                       FloodList  12-Feb-20        ...          35.282100   \n7                       FloodList  16-Feb-20        ...          -1.833100   \n8                       FloodList  11-Feb-20        ...          27.784900   \n9                       FloodList   9-Feb-20        ...         -71.238600   \n10                      FloodList  20-Jan-20        ...         -45.901300   \n11                      FloodList  20-Jan-20        ...          47.183800   \n12                      FloodList  23-Jan-20        ...         107.880000   \n13                      FloodList  17-Jan-20        ...          27.166300   \n14                      FloodLIst  15-Jan-20        ...         -64.137200   \n15                      FloodList  17-Jan-20        ...          36.865700   \n16                      FloodList  20-Jan-20        ...           0.629260   \n17                      FloodList  20-Dec-19        ...          80.834900   \n18                      FloodList  28-Dec-19        ...         100.184000   \n19                      FloodList   1-Jan-20        ...         107.508000   \n20                      FloodList   1-Jan-20        ...         125.175000   \n21                      FloodList   6-Dec-19        ...         -77.325500   \n22                      FloodList   6-Dec-19        ...         -75.643000   \n23                      FloodList  25-Dec-19        ...         -73.960400   \n24                      FloodList  28-Dec-19        ...         -86.728000   \n25                      FloodList  15-Dec-19        ...         -76.979100   \n26                      FloodList   4-Dec-19        ...          31.545900   \n27                      FloodList   6-Dec-19        ...          48.544700   \n28                      FloodList   2-Dec-19        ...          29.888100   \n29                      FloodList   8-Dec-19        ...          28.081800   \n..                            ...        ...        ...                ...   \n44                      FloodList  27-Nov-19        ...        -107.661000   \n45                     Validation  30-Nov-19        ...         102.584000   \n46                      FloodList  30-Nov-19        ...          78.855400   \n47                      FloodList   2-Dec-19        ...         121.142000   \n48                      FloodList  21-Oct-19        ...          42.655700   \n49                      FloodList  15-Nov-19        ...          33.352100   \n50                      FloodList   4-Dec-19        ...          30.061300   \n51                      FloodList  14-Nov-19        ...         121.241000   \n52                      FloodList   7-Nov-19        ...          -2.105280   \n53                      FloodList   1-Nov-19        ...          23.232100   \n54                      FloodList  15-Nov-19        ...          12.864500   \n55                      FloodLIst  25-Oct-19        ...         140.269000   \n56                      FloodList  25-Oct-19        ...          94.245900   \n57                      FloodLIst  28-Oct-19        ...         -75.296500   \n58                      FloodList  15-Oct-19        ...           7.519940   \n59                      FloodList  25-Oct-19        ...           0.146375   \n60                      FloodList  10-Oct-19        ...          39.414300   \n61                      FloodList  23-Oct-19        ...           1.754700   \n62                      FloodList  25-Oct-19        ...          54.755300   \n63                      FloodList  20-Oct-19        ...         -76.830600   \n64                      FloodList  12-Oct-19        ...          36.865700   \n65                      FloodList  12-Oct-19        ...          30.506600   \n66                      FloodList  12-Oct-19        ...         -55.922400   \n67                      FloodList   2-Oct-19        ...         128.565000   \n68                      FloodList  27-Sep-19        ...         -96.563600   \n69                      FloodList   5-Oct-19        ...         -72.228400   \n70                      FloodList  10-Sep-19        ...         -15.516300   \n71                      FloodList   4-Oct-19        ...          25.360000   \n72                      FloodList   5-Oct-19        ...          39.933900   \n73                      FloodList  25-Sep-19        ...           6.901350   \n\n    Centroid Y  \"News\" if  validated  M>6  Total annual floods  M>6  M>4  \\\n0          NaN                   NaN  NaN                       NaN  NaN   \n1          NaN                   NaN  NaN                       NaN  NaN   \n2    31.883300             FloodList  1.0                     246.0  1.0   \n3    -7.773570             FloodList  1.0                     245.0  1.0   \n4    -3.407660             FloodList  0.0                     244.0  1.0   \n5   -27.492900             FloodList  1.0                     244.0  1.0   \n6   -18.013200             FloodList  1.0                     243.0  1.0   \n7    51.848200             FloodList  0.0                     242.0  1.0   \n8   -18.245500             FloodList  0.0                     242.0  1.0   \n9   -14.576400             FloodList  1.0                     242.0  1.0   \n10  -19.398200             FloodList  1.0                     241.0  1.0   \n11  -18.949500             FloodList  1.0                     240.0  1.0   \n12   -6.855990             FloodList  0.0                     239.0  1.0   \n13  -18.301200             FloodList  0.0                     239.0  1.0   \n14  -25.594400             FloodLIst  0.0                     239.0  1.0   \n15  -16.222900             FloodList  1.0                     239.0  1.0   \n16   40.893900             FloodList  0.0                     238.0  1.0   \n17    7.922260             FloodList  0.0                     238.0  1.0   \n18    1.949610             FloodList  0.0                     238.0  1.0   \n19   -6.533460             FloodList  0.0                     238.0  1.0   \n20    1.887430             FloodList  0.0                     238.0  1.0   \n21    1.691190             FloodList  0.0                     238.0  1.0   \n22   -9.738160             FloodList  1.0                     238.0  1.0   \n23    3.499810             FloodList  0.0                     237.0  1.0   \n24   35.638800             FloodList  0.0                     237.0  1.0   \n25   -5.920650             FloodList  1.0                     237.0  1.0   \n26    1.934210             FloodList  0.0                     236.0  1.0   \n27    7.157010             FloodList  0.0                     236.0  1.0   \n28   -2.081250             FloodList  0.0                     236.0  1.0   \n29  -26.625500             FloodList  0.0                     236.0  1.0   \n..         ...                   ...  ...                       ...  ...   \n44   28.483600             FloodList  1.0                     231.0  1.0   \n45    4.415370            Validation  0.0                     230.0  1.0   \n46   10.848800             FloodList  1.0                     230.0  1.0   \n47   16.158000             FloodList  1.0                     229.0  1.0   \n48    1.594940             FloodList  1.0                     228.0  1.0   \n49    2.392220             FloodList  1.0                     227.0  1.0   \n50   -3.469720             FloodList  0.0                     226.0  1.0   \n51   14.558700             FloodList  0.0                     226.0  1.0   \n52   51.984000             FloodList  0.0                     226.0  1.0   \n53    2.831510             FloodList  1.0                     226.0  1.0   \n54   47.216500             FloodList  0.0                     225.0  1.0   \n55   36.738900             FloodLIst  0.0                     225.0  1.0   \n56   27.067800             FloodList  1.0                     225.0  1.0   \n57    7.764800             FloodLIst  0.0                     224.0  1.0   \n58    7.922210             FloodList  1.0                     224.0  1.0   \n59    5.818120             FloodList  0.0                     223.0  1.0   \n60    0.728006             FloodList  1.0                     223.0  1.0   \n61    8.060930             FloodList  1.0                     222.0  1.0   \n62   35.890300             FloodList  1.0                     221.0  1.0   \n63   -1.556300             FloodList  0.0                     220.0  1.0   \n64   -5.456580             FloodList  1.0                     220.0  1.0   \n65    6.497220             FloodList  1.0                     219.0  1.0   \n66  -33.748700             FloodList  0.0                     218.0  1.0   \n67   36.137600             FloodList  0.0                     218.0  1.0   \n68   16.081400             FloodList  0.0                     218.0  1.0   \n69    9.771890             FloodList  0.0                     218.0  1.0   \n70   15.520200             FloodList  0.0                     218.0  1.0   \n71   14.086000             FloodList  0.0                     218.0  1.0   \n72    3.343080             FloodList  0.0                     218.0  1.0   \n73    7.699210             FloodList  1.0                     218.0  1.0   \n\n    Total annual floods  M>4  Date Began  Total floods M>6  Total floods M>4  \n0                        NaN         NaN               NaN               NaN  \n1                        NaN         NaN               NaN               NaN  \n2                      649.0   10-Feb-20            1357.0            4334.0  \n3                      648.0   01-Feb-20            1356.0            4333.0  \n4                      647.0   07-Feb-20            1355.0            4332.0  \n5                      646.0   07-Feb-20            1355.0            4331.0  \n6                      645.0   12-Feb-20            1354.0            4330.0  \n7                      644.0   16-Feb-20            1353.0            4329.0  \n8                      643.0   11-Feb-20            1353.0            4328.0  \n9                      642.0   09-Feb-20            1353.0            4327.0  \n10                     641.0   20-Jan-20            1352.0            4326.0  \n11                     640.0   20-Jan-20            1351.0            4325.0  \n12                     639.0   23-Jan-20            1350.0            4324.0  \n13                     638.0   17-Jan-20            1350.0            4323.0  \n14                     637.0   15-Jan-20            1350.0            4322.0  \n15                     636.0   17-Jan-20            1350.0            4321.0  \n16                     635.0   20-Jan-20            1349.0            4320.0  \n17                     634.0   20-Dec-19            1349.0            4319.0  \n18                     633.0   28-Dec-19            1349.0            4318.0  \n19                     632.0   01-Jan-20            1349.0            4317.0  \n20                     631.0   01-Jan-20            1349.0            4316.0  \n21                     630.0   06-Dec-19            1349.0            4315.0  \n22                     629.0   06-Dec-19            1349.0            4314.0  \n23                     628.0   25-Dec-19            1348.0            4313.0  \n24                     627.0   28-Dec-19            1348.0            4312.0  \n25                     626.0   15-Dec-19            1348.0            4311.0  \n26                     625.0   04-Dec-19            1347.0            4310.0  \n27                     624.0   06-Dec-19            1347.0            4309.0  \n28                     623.0   02-Dec-19            1347.0            4308.0  \n29                     622.0   08-Dec-19            1347.0            4307.0  \n..                       ...         ...               ...               ...  \n44                     607.0   27-Nov-19            1342.0            4292.0  \n45                     606.0   30-Nov-19            1341.0            4291.0  \n46                     605.0   30-Nov-19            1341.0            4290.0  \n47                     604.0   02-Dec-19            1340.0            4289.0  \n48                     603.0   21-Oct-19            1339.0            4288.0  \n49                     602.0   15-Nov-19            1338.0            4287.0  \n50                     601.0   04-Dec-19            1337.0            4286.0  \n51                     600.0   14-Nov-19            1337.0            4285.0  \n52                     599.0   07-Nov-19            1337.0            4284.0  \n53                     598.0   01-Nov-19            1337.0            4283.0  \n54                     597.0   15-Nov-19            1336.0            4282.0  \n55                     596.0   25-Oct-19            1336.0            4281.0  \n56                     595.0   25-Oct-19            1336.0            4280.0  \n57                     594.0   28-Oct-19            1335.0            4279.0  \n58                     593.0   15-Oct-19            1335.0            4278.0  \n59                     592.0   25-Oct-19            1334.0            4277.0  \n60                     591.0   10-Oct-19            1334.0            4276.0  \n61                     590.0   23-Oct-19            1333.0            4275.0  \n62                     589.0   25-Oct-19            1332.0            4274.0  \n63                     588.0   20-Oct-19            1331.0            4273.0  \n64                     587.0   12-Oct-19            1331.0            4272.0  \n65                     586.0   12-Oct-19            1330.0            4271.0  \n66                     585.0   12-Oct-19            1329.0            4270.0  \n67                     584.0   02-Oct-19            1329.0            4269.0  \n68                     583.0   27-Sep-19            1329.0            4268.0  \n69                     582.0   05-Oct-19            1329.0            4267.0  \n70                     581.0   10-Sep-19            1329.0            4266.0  \n71                     580.0   04-Oct-19            1329.0            4265.0  \n72                     579.0   05-Oct-19            1329.0            4264.0  \n73                     578.0   25-Sep-19            1329.0            4263.0  \n\n[74 rows x 29 columns]\n",
          "name": "stdout"
        }
      ]
    },
    {
      "metadata": {
        "trusted": true
      },
      "cell_type": "code",
      "source": "",
      "execution_count": null,
      "outputs": []
    }
  ],
  "metadata": {
    "kernelspec": {
      "name": "python36",
      "display_name": "Python 3.6",
      "language": "python"
    },
    "language_info": {
      "mimetype": "text/x-python",
      "nbconvert_exporter": "python",
      "name": "python",
      "pygments_lexer": "ipython3",
      "version": "3.6.6",
      "file_extension": ".py",
      "codemirror_mode": {
        "version": 3,
        "name": "ipython"
      }
    }
  },
  "nbformat": 4,
  "nbformat_minor": 1
}